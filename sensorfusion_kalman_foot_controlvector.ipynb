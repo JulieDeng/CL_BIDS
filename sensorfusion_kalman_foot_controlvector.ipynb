{
 "cells": [
  {
   "cell_type": "code",
   "execution_count": 1,
   "metadata": {
    "collapsed": true
   },
   "outputs": [],
   "source": [
    "import numpy as np\n",
    "from filterpy.kalman import KalmanFilter\n",
    "from filterpy.common import Q_discrete_white_noise\n",
    "import math"
   ]
  },
  {
   "cell_type": "code",
   "execution_count": null,
   "metadata": {
    "collapsed": true
   },
   "outputs": [],
   "source": []
  },
  {
   "cell_type": "markdown",
   "metadata": {},
   "source": [
    "# Import Foot data and compute the measurement series"
   ]
  },
  {
   "cell_type": "code",
   "execution_count": 2,
   "metadata": {
    "collapsed": false
   },
   "outputs": [],
   "source": [
    "import pandas as pd\n",
    "import matplotlib.pyplot as plt\n",
    "from IPython.display import display, HTML\n",
    "adhd1 = pd.read_csv(\"data/TAIWAN_RAW_DATA/ADHD/A2_886001_20170227_184017/A2FootSensor_886001_20170227_184017.csv\") # has no hands and feet data\n",
    "adhd2 = pd.read_csv(\"data/TAIWAN_RAW_DATA/ADHD/A2_886002_20170228_104813/A2FootSensor_886002_20170228_104813.csv\")#has not hands and feet data\n",
    "adhd3 = pd.read_csv(\"data/TAIWAN_RAW_DATA/ADHD/A2_886006_20170304_172008/A2FootSensor_886006_20170304_172008.csv\")\n",
    "adhd4 = pd.read_csv(\"data/TAIWAN_RAW_DATA/ADHD/A2_886010_20170305_132607/A2FootSensor_886010_20170305_132607.csv\")\n",
    "adhd5 = pd.read_csv(\"data/TAIWAN_RAW_DATA/ADHD/A2_886015_20170311_153739/A2FootSensor_886015_20170311_153739.csv\")\n",
    "adhd6 = pd.read_csv(\"data/TAIWAN_RAW_DATA/ADHD/A2_886016_20170311_184832/A2FootSensor_886016_20170311_184832.csv\")\n",
    "adhd7 = pd.read_csv(\"data/TAIWAN_RAW_DATA/ADHD/A2_886017_20170312_112519/A2FootSensor_886017_20170312_112519.csv\")\n",
    "adhd8 = pd.read_csv(\"data/TAIWAN_RAW_DATA/ADHD/A2_886018_20170317_192755/A2FootSensor_886018_20170317_192755.csv\")\n",
    "adhd9 = pd.read_csv(\"data/TAIWAN_RAW_DATA/ADHD/A2_886019_20170318_130057/A2FootSensor_886019_20170318_130057.csv\")\n",
    "adhd10 =  pd.read_csv(\"data/TAIWAN_RAW_DATA/ADHD/A2_886020_20170318_135002/A2FootSensor_886020_20170318_135002.csv\")\n",
    "healthy1 = pd.read_csv(\"data/TAIWAN_RAW_DATA/HEALTHY/A2_886003_20170228_130925/A2FootSensor_886003_20170228_130925.csv\")\n",
    "healthy2 = pd.read_csv(\"data/TAIWAN_RAW_DATA/HEALTHY/A2_886004_20170304_152912/A2FootSensor_886004_20170304_152912.csv\")\n",
    "healthy3 = pd.read_csv(\"data/TAIWAN_RAW_DATA/HEALTHY/A2_886005_20170304_160532/A2FootSensor_886005_20170304_160532.csv\")\n",
    "healthy4 = pd.read_csv(\"data/TAIWAN_RAW_DATA/HEALTHY/A2_886007_20170305_102310/A2FootSensor_886007_20170305_102310.csv\")\n",
    "healthy5 = pd.read_csv(\"data/TAIWAN_RAW_DATA/HEALTHY/A2_886008_20170305_105348/A2FootSensor_886008_20170305_105348.csv\")\n",
    "healthy6 = pd.read_csv(\"data/TAIWAN_RAW_DATA/HEALTHY/A2_886009_20170305_112726/A2FootSensor_886009_20170305_112726.csv\")\n",
    "healthy7 = pd.read_csv(\"data/TAIWAN_RAW_DATA/HEALTHY/A2_886011_20170309_190528/A2FootSensor_886011_20170309_190528.csv\")\n",
    "healthy8 = pd.read_csv(\"data/TAIWAN_RAW_DATA/HEALTHY/A2_886012_20170309_193106/A2FootSensor_886012_20170309_193106.csv\")\n",
    "healthy9 = pd.read_csv(\"data/TAIWAN_RAW_DATA/HEALTHY/A2_886013_20170309_200214/A2FootSensor_886013_20170309_200214.csv\")\n",
    "healthy10 = pd.read_csv(\"data/TAIWAN_RAW_DATA/HEALTHY/A2_886014_20170309_205449/A2FootSensor_886014_20170309_205449.csv\")\n",
    "\n",
    "ADHD = [adhd8, adhd9, adhd10]\n",
    "HEALTHY = []\n",
    "#HEALTHY = [healthy2, healthy3, healthy4, healthy5, healthy6, healthy7, healthy8, healthy9, healthy10]\n",
    "numofADHD = 5\n",
    "numofHEALTHY = 9"
   ]
  },
  {
   "cell_type": "markdown",
   "metadata": {},
   "source": [
    "# Calculate Pitch and Roll from Accelerometer for Every Kid"
   ]
  },
  {
   "cell_type": "code",
   "execution_count": 3,
   "metadata": {
    "collapsed": false
   },
   "outputs": [],
   "source": [
    "#Create two lists that stores the info we need for kalman filter(roll_rate, pitch_rate, roll, pitch, roll_rate_iter, pitch_rate_iter)\n",
    "A = []\n",
    "H = []\n",
    "RAD_TO_DEG = 180 / math.pi\n",
    "\n",
    "def calculate_angle(HEALTHYorADHD, AorH):\n",
    "    for item in HEALTHYorADHD:\n",
    "        roll_rate = item['Roll']\n",
    "        pitch_rate = item['Pitch']\n",
    "        roll  = [math.atan2(item['Ay'][i], item['Az'][i]) * RAD_TO_DEG for i in range(len(item['Ay']))];\n",
    "        pitch = [math.atan((-item['Ax'][i]) / (math.sqrt(item['Ay'][i] * item['Ay'][i] + item['Az'][i] * item['Az'][i]) + 0.00001)) * RAD_TO_DEG for i in range(len(item['Ay']))];\n",
    "        roll_rate_iter = iter(roll_rate)\n",
    "        pitch_rate_iter = iter(pitch_rate)\n",
    "        roll_iter = iter(roll)\n",
    "        pitch_iter = iter(pitch)\n",
    "        package = [roll_rate, pitch_rate, roll, pitch, roll_rate_iter, pitch_rate_iter, roll_iter, pitch_iter]\n",
    "        AorH.append(package)\n",
    "    assert(len(AorH) == len(HEALTHYorADHD))\n",
    "\n",
    "calculate_angle(HEALTHY, H)\n",
    "calculate_angle(ADHD, A)"
   ]
  },
  {
   "cell_type": "markdown",
   "metadata": {},
   "source": [
    "# Constants for Kalman Filter"
   ]
  },
  {
   "cell_type": "code",
   "execution_count": 4,
   "metadata": {
    "collapsed": false
   },
   "outputs": [],
   "source": [
    "\n",
    "Q_angle = 0.001\n",
    "Q_gyroBias = 0.003\n",
    "R_measure = 0.03\n",
    "dt = 0.05\n",
    "\n"
   ]
  },
  {
   "cell_type": "markdown",
   "metadata": {},
   "source": [
    "# Filter!"
   ]
  },
  {
   "cell_type": "code",
   "execution_count": 5,
   "metadata": {
    "collapsed": false
   },
   "outputs": [],
   "source": [
    "def kalman(AorH, ROLLorPITCH): #0 for roll, pitch for 1\n",
    "    for item in AorH:\n",
    "        f = KalmanFilter(dim_x=2, dim_z=1, dim_u=1)\n",
    "        f.x = np.array([[item[2 + ROLLorPITCH][0]],\n",
    "                        [0.]])       # initial state\n",
    "\n",
    "        f.F = np.array([[1.,-dt],\n",
    "                        [0.,1.]])    # state transition matrix\n",
    "\n",
    "        f.H = np.array([[1.,0.]])    # Measurement function\n",
    "        f.P *= 1000.                 # covariance matrix\n",
    "        f.R = R_measure                     # state uncertainty\n",
    "        f.Q = np.array([[Q_angle, 0.],\n",
    "                        [0., Q_gyroBias]])  # process uncertainty\n",
    "        f.B = np.array([[dt],\n",
    "                [0.]])\n",
    "        filtered = [f.x[0][0]] # store the data after filtering\n",
    "        try:\n",
    "            while True:\n",
    "                f.predict(u = next(item[4 + ROLLorPITCH])) #predict with gyroscope measurement\n",
    "                f.update(next(item[6 + ROLLorPITCH])) #update with accelerometer measurement\n",
    "                filtered.append(f.x[0][0])\n",
    "        except StopIteration:\n",
    "            item.append(filtered)\n",
    "\n",
    "kalman(A, 0)\n",
    "kalman(A, 1)\n",
    "kalman(H, 0)\n",
    "kalman(H, 1)"
   ]
  },
  {
   "cell_type": "code",
   "execution_count": 45,
   "metadata": {
    "collapsed": false
   },
   "outputs": [
    {
     "data": {
      "image/png": "[encoded data removed]",
      "text/plain": [
       "<matplotlib.figure.Figure at 0xb90f080>"
      ]
     },
     "metadata": {},
     "output_type": "display_data"
    },
    {
     "data": {
      "image/png": "[encoded data removed]",
      "text/plain": [
       "<matplotlib.figure.Figure at 0xfe17fd0>"
      ]
     },
     "metadata": {},
     "output_type": "display_data"
    }
   ],
   "source": [
    "fig = plt.figure()\n",
    "plt.plot(A[1][3])\n",
    "plt.title(\"Calculated from Accelerometer\")\n",
    "plt.ylim(-90, 90)\n",
    "plt.show()\n",
    "fig = plt.figure()\n",
    "plt.plot(A[1][9])\n",
    "plt.title(\"Calculated from BOTH Accelerometer and Gyroscope\")\n",
    "plt.ylim(-90, 90)\n",
    "plt.show()"
   ]
  },
  {
   "cell_type": "code",
   "execution_count": 6,
   "metadata": {
    "collapsed": false
   },
   "outputs": [],
   "source": [
    "def fix_180_90(AorH):\n",
    "    for subject in AorH:\n",
    "        for i in range(len(subject[8])):\n",
    "            if (subject[8][i] > 180):\n",
    "                subject[8][i] = 180\n",
    "            elif (subject[8][i] < -180):\n",
    "                subject[8][i] = -180\n",
    "        for i in range(len(subject[9])):\n",
    "            if (subject[9][i] > 90):\n",
    "                subject[9][i] = 90\n",
    "            elif (subject[9][i] < -90):\n",
    "                subject[9][i] = -90\n",
    "        \n",
    "fix_180_90(A)\n",
    "fix_180_90(H)"
   ]
  },
  {
   "cell_type": "markdown",
   "metadata": {},
   "source": [
    "# Gravity Compensation with Row and Pitch Calculated"
   ]
  },
  {
   "cell_type": "code",
   "execution_count": 7,
   "metadata": {
    "collapsed": false
   },
   "outputs": [],
   "source": [
    "\n",
    "\n",
    "def compensate(ADHDorHEALTHY, AorH):\n",
    "    for i in range(len(AorH)):\n",
    "        x = [-math.sin(theta / RAD_TO_DEG) for theta in AorH[i][9]] #theta is 9, phi is 8\n",
    "        y = [math.cos(AorH[i][9][j] / RAD_TO_DEG) * math.sin(AorH[i][8][j] / RAD_TO_DEG) for j in range(len(AorH[i][9]))]\n",
    "        z = [math.cos(AorH[i][9][j] / RAD_TO_DEG) * math.cos(AorH[i][8][j] / RAD_TO_DEG) for j in range(len(AorH[i][9]))]\n",
    "        ADHDorHEALTHY[i]['Ax'] = np.subtract(x[:-1], ADHDorHEALTHY[i]['Ax'])\n",
    "        ADHDorHEALTHY[i]['Ay'] = np.subtract(y[:-1], ADHDorHEALTHY[i]['Ay'])\n",
    "        ADHDorHEALTHY[i]['Az'] = np.subtract(z[:-1], ADHDorHEALTHY[i]['Az'])\n",
    "        \n",
    "compensate(ADHD, A)\n",
    "compensate(HEALTHY, H)\n",
    "\n",
    "# adhd1.to_csv(\"data/TAIWAN_RAW_DATA/ADHD/A2_886001_20170227_184017/gcompensated_A2FootSensor_886001_20170227_184017.csv\")\n",
    "# adhd2.to_csv(\"data/TAIWAN_RAW_DATA/ADHD/A2_886002_20170228_104813/gcompensated_A2FootSensor_886002_20170228_104813.csv\")#has not hands and feet data\n",
    "# adhd3.to_csv(\"data/TAIWAN_RAW_DATA/ADHD/A2_886006_20170304_172008/gcompensated_A2FootSensor_886006_20170304_172008.csv\")\n",
    "# adhd4.to_csv(\"data/TAIWAN_RAW_DATA/ADHD/A2_886010_20170305_132607/gcompensated_A2FootSensor_886010_20170305_132607.csv\")\n",
    "# adhd5.to_csv(\"data/TAIWAN_RAW_DATA/ADHD/A2_886015_20170311_153739/gcompensated_A2FootSensor_886015_20170311_153739.csv\")\n",
    "# adhd6.to_csv(\"data/TAIWAN_RAW_DATA/ADHD/A2_886016_20170311_184832/gcompensated_A2FootSensor_886016_20170311_184832.csv\")\n",
    "# adhd7.to_csv(\"data/TAIWAN_RAW_DATA/ADHD/A2_886017_20170312_112519/gcompensated_A2FootSensor_886017_20170312_112519.csv\")\n",
    "adhd8.to_csv(\"data/TAIWAN_RAW_DATA/ADHD/A2_886018_20170317_192755/gcompensated_A2FootSensor_886018_20170317_192755.csv\")\n",
    "adhd9.to_csv(\"data/TAIWAN_RAW_DATA/ADHD/A2_886019_20170318_130057/gcompensated_A2FootSensor_886019_20170318_130057.csv\")\n",
    "adhd10.to_csv(\"data/TAIWAN_RAW_DATA/ADHD/A2_886020_20170318_135002/gcompensated_A2FootSensor_886020_20170318_135002.csv\")\n",
    "# healthy1.to_csv(\"data/TAIWAN_RAW_DATA/HEALTHY/A2_886003_20170228_130925/gcompensated_A2FootSensor_886003_20170228_130925.csv\")\n",
    "# healthy2.to_csv(\"data/TAIWAN_RAW_DATA/HEALTHY/A2_886004_20170304_152912/gcompensated_A2FootSensor_886004_20170304_152912.csv\")\n",
    "# healthy3.to_csv(\"data/TAIWAN_RAW_DATA/HEALTHY/A2_886005_20170304_160532/gcompensated_A2FootSensor_886005_20170304_160532.csv\")\n",
    "# healthy4.to_csv(\"data/TAIWAN_RAW_DATA/HEALTHY/A2_886007_20170305_102310/gcompensated_A2FootSensor_886007_20170305_102310.csv\")\n",
    "# healthy5.to_csv(\"data/TAIWAN_RAW_DATA/HEALTHY/A2_886008_20170305_105348/gcompensated_A2FootSensor_886008_20170305_105348.csv\")\n",
    "# healthy6.to_csv(\"data/TAIWAN_RAW_DATA/HEALTHY/A2_886009_20170305_112726/gcompensated_A2FootSensor_886009_20170305_112726.csv\")\n",
    "# healthy7.to_csv(\"data/TAIWAN_RAW_DATA/HEALTHY/A2_886011_20170309_190528/gcompensated_A2FootSensor_886011_20170309_190528.csv\")\n",
    "# healthy8.to_csv(\"data/TAIWAN_RAW_DATA/HEALTHY/A2_886012_20170309_193106/gcompensated_A2FootSensor_886012_20170309_193106.csv\")\n",
    "# healthy9.to_csv(\"data/TAIWAN_RAW_DATA/HEALTHY/A2_886013_20170309_200214/gcompensated_A2FootSensor_886013_20170309_200214.csv\")\n",
    "# healthy10.to_csv(\"data/TAIWAN_RAW_DATA/HEALTHY/A2_886014_20170309_205449/gcompensated_A2FootSensor_886014_20170309_205449.csv\")\n"
   ]
  }
 ],
 "metadata": {
  "anaconda-cloud": {},
  "kernelspec": {
   "display_name": "Python [conda root]",
   "language": "python",
   "name": "conda-root-py"
  },
  "language_info": {
   "codemirror_mode": {
    "name": "ipython",
    "version": 3
   },
   "file_extension": ".py",
   "mimetype": "text/x-python",
   "name": "python",
   "nbconvert_exporter": "python",
   "pygments_lexer": "ipython3",
   "version": "3.5.2"
  }
 },
 "nbformat": 4,
 "nbformat_minor": 1
}
