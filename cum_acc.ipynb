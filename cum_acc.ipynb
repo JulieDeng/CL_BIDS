{
 "cells": [
  {
   "cell_type": "markdown",
   "metadata": {},
   "source": [
    "# Method for calculating the area"
   ]
  },
  {
   "cell_type": "code",
   "execution_count": 48,
   "metadata": {
    "collapsed": false
   },
   "outputs": [],
   "source": [
    "def cal_cum1(ADHDorHEALTHY, cum1, st, e):\n",
    "    for item in ADHDorHEALTHY:\n",
    "        length = len(item['Ax'])\n",
    "        start = int(length * st)\n",
    "        end = int(length * e)\n",
    "        print(length)\n",
    "        print(start)\n",
    "        print(end)\n",
    "        s = (sum(abs(item['Ax'][start:end]))-0.5 * abs(item['Ax'][start])-0.5* abs(item['Ax'][end - 1]))/fre  #calclate area under x axis\n",
    "        s += (sum(abs(item['Ay'][start:end]))-0.5 * abs(item['Ay'][start])-0.5* abs(item['Ay'][end - 1]))/fre #calsulate and add area under y axis\n",
    "        s += (sum(abs(item['Az'][start:end]))-0.5 * abs(item['Az'][start])-0.5* abs(item['Az'][end - 1]))/fre #calculate and add area under z axis\n",
    "        s = s / ((end - start)/fre/60) #divide by length of the duration(min)\n",
    "        cum1.append(s)\n",
    "\n",
    "def cal_cum2(ADHDorHEALTHY, cum2, st, e):\n",
    "    for item in ADHDorHEALTHY:\n",
    "        length = len(item['Ax'])\n",
    "        start = int(length * st)\n",
    "        end = int(length * e)\n",
    "        acc_total = (item['Ax']**2 + item['Ay']**2 + item['Az']**2) ** 0.5 #calculate total acceleration with pythagorean theory\n",
    "        s = (sum(acc_total[start:end])-0.5 * acc_total[start]-0.5* acc_total[end - 1])/fre #calculae the area under the total acceleration cure\n",
    "        s = s / ((end - start)/fre/60) #divide by length of the duration(min)\n",
    "        cum2.append(s)\n",
    "\n"
   ]
  },
  {
   "cell_type": "markdown",
   "metadata": {},
   "source": [
    "# Import Hand Data #SUBJ11 IS LOSING SOME DATA"
   ]
  },
  {
   "cell_type": "code",
   "execution_count": 38,
   "metadata": {
    "collapsed": false
   },
   "outputs": [
    {
     "data": {
      "text/html": [
       "<div>\n",
       "<table border=\"1\" class=\"dataframe\">\n",
       "  <thead>\n",
       "    <tr style=\"text-align: right;\">\n",
       "      <th></th>\n",
       "      <th>Unnamed: 0</th>\n",
       "      <th>Unnamed: 0.1</th>\n",
       "      <th>Time</th>\n",
       "      <th>Pitch</th>\n",
       "      <th>Roll</th>\n",
       "      <th>Yaw</th>\n",
       "      <th>Ax</th>\n",
       "      <th>Ay</th>\n",
       "      <th>Az</th>\n",
       "      <th>Mx</th>\n",
       "      <th>My</th>\n",
       "      <th>Mz</th>\n",
       "      <th>Wx</th>\n",
       "      <th>Wy</th>\n",
       "      <th>Wz</th>\n",
       "    </tr>\n",
       "  </thead>\n",
       "  <tbody>\n",
       "    <tr>\n",
       "      <th>0</th>\n",
       "      <td>0</td>\n",
       "      <td>0</td>\n",
       "      <td>20170309-205449-306</td>\n",
       "      <td>-18.627319</td>\n",
       "      <td>-56.579590</td>\n",
       "      <td>56.848755</td>\n",
       "      <td>0.099427</td>\n",
       "      <td>-0.246368</td>\n",
       "      <td>0.164560</td>\n",
       "      <td>605</td>\n",
       "      <td>89</td>\n",
       "      <td>327</td>\n",
       "      <td>-1.037598</td>\n",
       "      <td>0.122070</td>\n",
       "      <td>0.183105</td>\n",
       "    </tr>\n",
       "    <tr>\n",
       "      <th>1</th>\n",
       "      <td>1</td>\n",
       "      <td>1</td>\n",
       "      <td>20170309-205449-349</td>\n",
       "      <td>-18.610840</td>\n",
       "      <td>-56.705933</td>\n",
       "      <td>57.024536</td>\n",
       "      <td>0.065936</td>\n",
       "      <td>-0.160241</td>\n",
       "      <td>0.212400</td>\n",
       "      <td>595</td>\n",
       "      <td>95</td>\n",
       "      <td>305</td>\n",
       "      <td>-3.906250</td>\n",
       "      <td>0.244141</td>\n",
       "      <td>0.183105</td>\n",
       "    </tr>\n",
       "    <tr>\n",
       "      <th>2</th>\n",
       "      <td>2</td>\n",
       "      <td>2</td>\n",
       "      <td>20170309-205449-392</td>\n",
       "      <td>-18.583374</td>\n",
       "      <td>-56.837769</td>\n",
       "      <td>57.068481</td>\n",
       "      <td>0.132175</td>\n",
       "      <td>-0.221434</td>\n",
       "      <td>0.182902</td>\n",
       "      <td>589</td>\n",
       "      <td>31</td>\n",
       "      <td>381</td>\n",
       "      <td>-2.624512</td>\n",
       "      <td>0.549316</td>\n",
       "      <td>0.000000</td>\n",
       "    </tr>\n",
       "    <tr>\n",
       "      <th>3</th>\n",
       "      <td>3</td>\n",
       "      <td>3</td>\n",
       "      <td>20170309-205449-435</td>\n",
       "      <td>-18.577881</td>\n",
       "      <td>-56.964111</td>\n",
       "      <td>57.156372</td>\n",
       "      <td>0.074383</td>\n",
       "      <td>-0.204554</td>\n",
       "      <td>0.169391</td>\n",
       "      <td>596</td>\n",
       "      <td>84</td>\n",
       "      <td>322</td>\n",
       "      <td>-2.807617</td>\n",
       "      <td>0.305176</td>\n",
       "      <td>-0.061035</td>\n",
       "    </tr>\n",
       "    <tr>\n",
       "      <th>4</th>\n",
       "      <td>4</td>\n",
       "      <td>4</td>\n",
       "      <td>20170309-205449-478</td>\n",
       "      <td>-18.561401</td>\n",
       "      <td>-57.095947</td>\n",
       "      <td>57.216797</td>\n",
       "      <td>0.134126</td>\n",
       "      <td>-0.244766</td>\n",
       "      <td>0.137016</td>\n",
       "      <td>615</td>\n",
       "      <td>79</td>\n",
       "      <td>335</td>\n",
       "      <td>-2.868652</td>\n",
       "      <td>0.061035</td>\n",
       "      <td>-0.427246</td>\n",
       "    </tr>\n",
       "  </tbody>\n",
       "</table>\n",
       "</div>"
      ],
      "text/plain": [
       "   Unnamed: 0  Unnamed: 0.1                 Time      Pitch       Roll  \\\n",
       "0           0             0  20170309-205449-306 -18.627319 -56.579590   \n",
       "1           1             1  20170309-205449-349 -18.610840 -56.705933   \n",
       "2           2             2  20170309-205449-392 -18.583374 -56.837769   \n",
       "3           3             3  20170309-205449-435 -18.577881 -56.964111   \n",
       "4           4             4  20170309-205449-478 -18.561401 -57.095947   \n",
       "\n",
       "         Yaw        Ax        Ay        Az   Mx  My   Mz        Wx        Wy  \\\n",
       "0  56.848755  0.099427 -0.246368  0.164560  605  89  327 -1.037598  0.122070   \n",
       "1  57.024536  0.065936 -0.160241  0.212400  595  95  305 -3.906250  0.244141   \n",
       "2  57.068481  0.132175 -0.221434  0.182902  589  31  381 -2.624512  0.549316   \n",
       "3  57.156372  0.074383 -0.204554  0.169391  596  84  322 -2.807617  0.305176   \n",
       "4  57.216797  0.134126 -0.244766  0.137016  615  79  335 -2.868652  0.061035   \n",
       "\n",
       "         Wz  \n",
       "0  0.183105  \n",
       "1  0.183105  \n",
       "2  0.000000  \n",
       "3 -0.061035  \n",
       "4 -0.427246  "
      ]
     },
     "metadata": {},
     "output_type": "display_data"
    }
   ],
   "source": [
    "import pandas as pd\n",
    "import matplotlib.pyplot as plt\n",
    "from IPython.display import display, HTML\n",
    "adhd1 = pd.read_csv(\"data/TAIWAN_RAW_DATA/ADHD/A2_886001_20170227_184017/ms_A2HandSensor_886001_20170227_184017.csv\") # has no hands and feet data\n",
    "adhd2 = pd.read_csv(\"data/TAIWAN_RAW_DATA/ADHD/A2_886002_20170228_104813/ms_A2HandSensor_886002_20170228_104813.csv\")#has not hands and feet data\n",
    "adhd3 = pd.read_csv(\"data/TAIWAN_RAW_DATA/ADHD/A2_886006_20170304_172008/ms_A2HandSensor_886006_20170304_172008.csv\")\n",
    "adhd4 = pd.read_csv(\"data/TAIWAN_RAW_DATA/ADHD/A2_886010_20170305_132607/ms_A2HandSensor_886010_20170305_132607.csv\")\n",
    "adhd5 = pd.read_csv(\"data/TAIWAN_RAW_DATA/ADHD/A2_886015_20170311_153739/ms_A2HandSensor_886015_20170311_153739.csv\")\n",
    "adhd6 = pd.read_csv(\"data/TAIWAN_RAW_DATA/ADHD/A2_886016_20170311_184832/ms_A2HandSensor_886016_20170311_184832.csv\")\n",
    "adhd7 = pd.read_csv(\"data/TAIWAN_RAW_DATA/ADHD/A2_886017_20170312_112519/ms_A2HandSensor_886017_20170312_112519.csv\")\n",
    "adhd8 = pd.read_csv(\"data/TAIWAN_RAW_DATA/ADHD/A2_886018_20170317_192755/ms_A2HandSensor_886018_20170317_192755.csv\")\n",
    "adhd9 = pd.read_csv(\"data/TAIWAN_RAW_DATA/ADHD/A2_886019_20170318_130057/ms_A2HandSensor_886019_20170318_130057.csv\")\n",
    "adhd10 =  pd.read_csv(\"data/TAIWAN_RAW_DATA/ADHD/A2_886020_20170318_135002/ms_A2HandSensor_886020_20170318_135002.csv\")\n",
    "healthy1 = pd.read_csv(\"data/TAIWAN_RAW_DATA/HEALTHY/A2_886003_20170228_130925/ms_A2HandSensor_886003_20170228_130925.csv\")\n",
    "healthy2 = pd.read_csv(\"data/TAIWAN_RAW_DATA/HEALTHY/A2_886004_20170304_152912/ms_A2HandSensor_886004_20170304_152912.csv\")\n",
    "healthy3 = pd.read_csv(\"data/TAIWAN_RAW_DATA/HEALTHY/A2_886005_20170304_160532/ms_A2HandSensor_886005_20170304_160532.csv\")\n",
    "healthy4 = pd.read_csv(\"data/TAIWAN_RAW_DATA/HEALTHY/A2_886007_20170305_102310/ms_A2HandSensor_886007_20170305_102310.csv\")\n",
    "healthy5 = pd.read_csv(\"data/TAIWAN_RAW_DATA/HEALTHY/A2_886008_20170305_105348/ms_A2HandSensor_886008_20170305_105348.csv\")\n",
    "healthy6 = pd.read_csv(\"data/TAIWAN_RAW_DATA/HEALTHY/A2_886009_20170305_112726/ms_A2HandSensor_886009_20170305_112726.csv\")\n",
    "healthy7 = pd.read_csv(\"data/TAIWAN_RAW_DATA/HEALTHY/A2_886011_20170309_190528/ms_A2HandSensor_886011_20170309_190528.csv\")\n",
    "healthy8 = pd.read_csv(\"data/TAIWAN_RAW_DATA/HEALTHY/A2_886012_20170309_193106/ms_A2HandSensor_886012_20170309_193106.csv\")\n",
    "healthy9 = pd.read_csv(\"data/TAIWAN_RAW_DATA/HEALTHY/A2_886013_20170309_200214/ms_A2HandSensor_886013_20170309_200214.csv\")\n",
    "healthy10 = pd.read_csv(\"data/TAIWAN_RAW_DATA/HEALTHY/A2_886014_20170309_205449/ms_A2HandSensor_886014_20170309_205449.csv\")\n",
    "#adhd.set_index(\"Time\", inplace = True);\n",
    "display(healthy10.head())\n",
    "ADHD = [adhd1, adhd2, adhd3, adhd4, adhd5, adhd6, adhd7, adhd8, adhd9, adhd10]\n",
    "HEALTHY = [healthy1, healthy2, healthy3, healthy4, healthy5, healthy6, healthy7, healthy8, healthy9, healthy10]\n",
    "TOTAL = [healthy2, healthy3, adhd3, healthy4, healthy5, healthy6, adhd4, healthy7, healthy8, healthy9, healthy10, adhd5, adhd6, adhd7, adhd8, adhd9, adhd10]\n",
    "SNAPcom = [1, 0, 30, 4, 2, 3, 18, 11, 11, 9, 6, 16, 32, 29]\n",
    "SNAPin = [1, 0, 19, 3, 1, 3, 12, 5, 5, 4, 5, 13, 16, 17]\n",
    "SNAPh = [0, 0, 11, 1, 1, 0, 6, 6, 6, 5, 1, 3, 16, 12]\n",
    "HIGHSNAP = [adhd3, adhd4, healthy7, healthy8, adhd5, adhd6, adhd7]\n",
    "LOWSNAP = [healthy2, healthy3, healthy4, healthy5, healthy6, healthy9, healthy10]\n",
    "\n",
    "\n"
   ]
  },
  {
   "cell_type": "code",
   "execution_count": 49,
   "metadata": {
    "collapsed": false,
    "scrolled": true
   },
   "outputs": [
    {
     "name": "stdout",
     "output_type": "stream",
     "text": [
      "15937\n",
      "0\n",
      "15937\n",
      "16120\n",
      "0\n",
      "16120\n",
      "14809\n",
      "0\n",
      "14809\n",
      "16702\n",
      "0\n",
      "16702\n",
      "17214\n",
      "0\n",
      "17214\n",
      "15480\n",
      "0\n",
      "15480\n",
      "16485\n",
      "0\n",
      "16485\n",
      "5994\n",
      "0\n",
      "5994\n",
      "14033\n",
      "0\n",
      "14033\n",
      "12373\n",
      "0\n",
      "12373\n",
      "12351\n",
      "0\n",
      "12351\n",
      "14114\n",
      "0\n",
      "14114\n",
      "13687\n",
      "0\n",
      "13687\n",
      "14405\n",
      "0\n",
      "14405\n",
      "14658\n",
      "0\n",
      "14658\n",
      "13469\n",
      "0\n",
      "13469\n",
      "14336\n",
      "0\n",
      "14336\n",
      "15937\n",
      "0\n",
      "5312\n",
      "16120\n",
      "0\n",
      "5373\n",
      "14809\n",
      "0\n",
      "4936\n",
      "16702\n",
      "0\n",
      "5567\n",
      "17214\n",
      "0\n",
      "5738\n",
      "15480\n",
      "0\n",
      "5160\n",
      "16485\n",
      "0\n",
      "5495\n",
      "5994\n",
      "0\n",
      "1998\n",
      "14033\n",
      "0\n",
      "4677\n",
      "12373\n",
      "0\n",
      "4124\n",
      "12351\n",
      "0\n",
      "4117\n",
      "14114\n",
      "0\n",
      "4704\n",
      "13687\n",
      "0\n",
      "4562\n",
      "14405\n",
      "0\n",
      "4801\n",
      "14658\n",
      "0\n",
      "4886\n",
      "13469\n",
      "0\n",
      "4489\n",
      "14336\n",
      "0\n",
      "4778\n",
      "15937\n",
      "5312\n",
      "10624\n",
      "16120\n",
      "5373\n",
      "10746\n",
      "14809\n",
      "4936\n",
      "9872\n",
      "16702\n",
      "5567\n",
      "11134\n",
      "17214\n",
      "5738\n",
      "11476\n",
      "15480\n",
      "5160\n",
      "10320\n",
      "16485\n",
      "5495\n",
      "10990\n",
      "5994\n",
      "1998\n",
      "3996\n",
      "14033\n",
      "4677\n",
      "9355\n",
      "12373\n",
      "4124\n",
      "8248\n",
      "12351\n",
      "4117\n",
      "8234\n",
      "14114\n",
      "4704\n",
      "9409\n",
      "13687\n",
      "4562\n",
      "9124\n",
      "14405\n",
      "4801\n",
      "9603\n",
      "14658\n",
      "4886\n",
      "9772\n",
      "13469\n",
      "4489\n",
      "8979\n",
      "14336\n",
      "4778\n",
      "9557\n",
      "15937\n",
      "10624\n",
      "15937\n",
      "16120\n",
      "10746\n",
      "16120\n",
      "14809\n",
      "9872\n",
      "14809\n",
      "16702\n",
      "11134\n",
      "16702\n",
      "17214\n",
      "11476\n",
      "17214\n",
      "15480\n",
      "10320\n",
      "15480\n",
      "16485\n",
      "10990\n",
      "16485\n",
      "5994\n",
      "3996\n",
      "5994\n",
      "14033\n",
      "9355\n",
      "14033\n",
      "12373\n",
      "8248\n",
      "12373\n",
      "12351\n",
      "8234\n",
      "12351\n",
      "14114\n",
      "9409\n",
      "14114\n",
      "13687\n",
      "9124\n",
      "13687\n",
      "14405\n",
      "9603\n",
      "14405\n",
      "14658\n",
      "9772\n",
      "14658\n",
      "13469\n",
      "8979\n",
      "13469\n",
      "14336\n",
      "9557\n",
      "14336\n"
     ]
    }
   ],
   "source": [
    "fre = 20\n",
    "cum1_hand = [0, 0, 0]\n",
    "cum2_hand = [0, 0, 0]\n",
    "cum1_hand_b1 = [0, 0, 0]\n",
    "cum1_hand_b2 = [0, 0, 0]\n",
    "cum1_hand_b3 = [0, 0, 0]\n",
    "cum2_hand_b1 = [0, 0, 0]\n",
    "cum2_hand_b2 = [0, 0, 0]\n",
    "cum2_hand_b3 = [0, 0, 0]\n",
    "\n",
    "cal_cum1(TOTAL, cum1_hand, 0, 1)\n",
    "cal_cum2(TOTAL, cum2_hand, 0, 1)\n",
    "cal_cum1(TOTAL, cum1_hand_b1, 0, 1/3)\n",
    "cal_cum2(TOTAL, cum2_hand_b1, 0, 1/3)\n",
    "cal_cum1(TOTAL, cum1_hand_b2, 1/3, 2/3)\n",
    "cal_cum2(TOTAL, cum2_hand_b2, 1/3, 2/3)\n",
    "cal_cum1(TOTAL, cum1_hand_b3, 2/3, 1)\n",
    "cal_cum2(TOTAL, cum2_hand_b3, 2/3, 1)"
   ]
  },
  {
   "cell_type": "markdown",
   "metadata": {},
   "source": [
    "# Import Foot Data"
   ]
  },
  {
   "cell_type": "code",
   "execution_count": 50,
   "metadata": {
    "collapsed": false
   },
   "outputs": [
    {
     "data": {
      "text/html": [
       "<div>\n",
       "<table border=\"1\" class=\"dataframe\">\n",
       "  <thead>\n",
       "    <tr style=\"text-align: right;\">\n",
       "      <th></th>\n",
       "      <th>Unnamed: 0</th>\n",
       "      <th>Unnamed: 0.1</th>\n",
       "      <th>Time</th>\n",
       "      <th>Pitch</th>\n",
       "      <th>Roll</th>\n",
       "      <th>Yaw</th>\n",
       "      <th>Ax</th>\n",
       "      <th>Ay</th>\n",
       "      <th>Az</th>\n",
       "      <th>Mx</th>\n",
       "      <th>My</th>\n",
       "      <th>Mz</th>\n",
       "      <th>Wx</th>\n",
       "      <th>Wy</th>\n",
       "      <th>Wz</th>\n",
       "    </tr>\n",
       "  </thead>\n",
       "  <tbody>\n",
       "    <tr>\n",
       "      <th>0</th>\n",
       "      <td>0</td>\n",
       "      <td>0</td>\n",
       "      <td>20170309-205449-146</td>\n",
       "      <td>78.535767</td>\n",
       "      <td>178.731079</td>\n",
       "      <td>-156.203613</td>\n",
       "      <td>0.096988</td>\n",
       "      <td>-0.000571</td>\n",
       "      <td>0.019664</td>\n",
       "      <td>-25</td>\n",
       "      <td>255</td>\n",
       "      <td>125</td>\n",
       "      <td>0.244141</td>\n",
       "      <td>0.000000</td>\n",
       "      <td>0.000000</td>\n",
       "    </tr>\n",
       "    <tr>\n",
       "      <th>1</th>\n",
       "      <td>1</td>\n",
       "      <td>1</td>\n",
       "      <td>20170309-205449-190</td>\n",
       "      <td>78.541260</td>\n",
       "      <td>178.681641</td>\n",
       "      <td>-156.242065</td>\n",
       "      <td>0.106554</td>\n",
       "      <td>0.018560</td>\n",
       "      <td>-0.013812</td>\n",
       "      <td>-25</td>\n",
       "      <td>255</td>\n",
       "      <td>131</td>\n",
       "      <td>-0.183105</td>\n",
       "      <td>-0.122070</td>\n",
       "      <td>0.122070</td>\n",
       "    </tr>\n",
       "    <tr>\n",
       "      <th>2</th>\n",
       "      <td>2</td>\n",
       "      <td>2</td>\n",
       "      <td>20170309-205449-234</td>\n",
       "      <td>78.535767</td>\n",
       "      <td>178.637695</td>\n",
       "      <td>-156.296997</td>\n",
       "      <td>0.112559</td>\n",
       "      <td>-0.027749</td>\n",
       "      <td>0.070163</td>\n",
       "      <td>-22</td>\n",
       "      <td>258</td>\n",
       "      <td>126</td>\n",
       "      <td>0.000000</td>\n",
       "      <td>0.000000</td>\n",
       "      <td>0.305176</td>\n",
       "    </tr>\n",
       "    <tr>\n",
       "      <th>3</th>\n",
       "      <td>3</td>\n",
       "      <td>3</td>\n",
       "      <td>20170309-205449-277</td>\n",
       "      <td>78.541260</td>\n",
       "      <td>178.571777</td>\n",
       "      <td>-156.340942</td>\n",
       "      <td>0.113821</td>\n",
       "      <td>-0.014590</td>\n",
       "      <td>0.030896</td>\n",
       "      <td>-18</td>\n",
       "      <td>260</td>\n",
       "      <td>114</td>\n",
       "      <td>0.122070</td>\n",
       "      <td>0.000000</td>\n",
       "      <td>0.244141</td>\n",
       "    </tr>\n",
       "    <tr>\n",
       "      <th>4</th>\n",
       "      <td>4</td>\n",
       "      <td>4</td>\n",
       "      <td>20170309-205449-320</td>\n",
       "      <td>78.541260</td>\n",
       "      <td>178.571777</td>\n",
       "      <td>-156.362915</td>\n",
       "      <td>0.110061</td>\n",
       "      <td>0.043081</td>\n",
       "      <td>0.030918</td>\n",
       "      <td>-17</td>\n",
       "      <td>257</td>\n",
       "      <td>117</td>\n",
       "      <td>0.122070</td>\n",
       "      <td>-0.061035</td>\n",
       "      <td>0.244141</td>\n",
       "    </tr>\n",
       "  </tbody>\n",
       "</table>\n",
       "</div>"
      ],
      "text/plain": [
       "   Unnamed: 0  Unnamed: 0.1                 Time      Pitch        Roll  \\\n",
       "0           0             0  20170309-205449-146  78.535767  178.731079   \n",
       "1           1             1  20170309-205449-190  78.541260  178.681641   \n",
       "2           2             2  20170309-205449-234  78.535767  178.637695   \n",
       "3           3             3  20170309-205449-277  78.541260  178.571777   \n",
       "4           4             4  20170309-205449-320  78.541260  178.571777   \n",
       "\n",
       "          Yaw        Ax        Ay        Az  Mx   My   Mz        Wx        Wy  \\\n",
       "0 -156.203613  0.096988 -0.000571  0.019664 -25  255  125  0.244141  0.000000   \n",
       "1 -156.242065  0.106554  0.018560 -0.013812 -25  255  131 -0.183105 -0.122070   \n",
       "2 -156.296997  0.112559 -0.027749  0.070163 -22  258  126  0.000000  0.000000   \n",
       "3 -156.340942  0.113821 -0.014590  0.030896 -18  260  114  0.122070  0.000000   \n",
       "4 -156.362915  0.110061  0.043081  0.030918 -17  257  117  0.122070 -0.061035   \n",
       "\n",
       "         Wz  \n",
       "0  0.000000  \n",
       "1  0.122070  \n",
       "2  0.305176  \n",
       "3  0.244141  \n",
       "4  0.244141  "
      ]
     },
     "metadata": {},
     "output_type": "display_data"
    }
   ],
   "source": [
    "import pandas as pd\n",
    "import matplotlib.pyplot as plt\n",
    "from IPython.display import display, HTML\n",
    "adhd1 = pd.read_csv(\"data/TAIWAN_RAW_DATA/ADHD/A2_886001_20170227_184017/ms_A2FootSensor_886001_20170227_184017.csv\") # has no hands and feet data\n",
    "adhd2 = pd.read_csv(\"data/TAIWAN_RAW_DATA/ADHD/A2_886002_20170228_104813/ms_A2FootSensor_886002_20170228_104813.csv\")#has not hands and feet data\n",
    "adhd3 = pd.read_csv(\"data/TAIWAN_RAW_DATA/ADHD/A2_886006_20170304_172008/ms_A2FootSensor_886006_20170304_172008.csv\")\n",
    "adhd4 = pd.read_csv(\"data/TAIWAN_RAW_DATA/ADHD/A2_886010_20170305_132607/ms_A2FootSensor_886010_20170305_132607.csv\")\n",
    "adhd5 = pd.read_csv(\"data/TAIWAN_RAW_DATA/ADHD/A2_886015_20170311_153739/ms_A2FootSensor_886015_20170311_153739.csv\")\n",
    "adhd6 = pd.read_csv(\"data/TAIWAN_RAW_DATA/ADHD/A2_886016_20170311_184832/ms_A2FootSensor_886016_20170311_184832.csv\")\n",
    "adhd7 = pd.read_csv(\"data/TAIWAN_RAW_DATA/ADHD/A2_886017_20170312_112519/ms_A2FootSensor_886017_20170312_112519.csv\")\n",
    "adhd8 = pd.read_csv(\"data/TAIWAN_RAW_DATA/ADHD/A2_886018_20170317_192755/ms_A2FootSensor_886018_20170317_192755.csv\")\n",
    "adhd9 = pd.read_csv(\"data/TAIWAN_RAW_DATA/ADHD/A2_886019_20170318_130057/ms_A2FootSensor_886019_20170318_130057.csv\")\n",
    "adhd10 =  pd.read_csv(\"data/TAIWAN_RAW_DATA/ADHD/A2_886020_20170318_135002/ms_A2FootSensor_886020_20170318_135002.csv\")\n",
    "healthy1 = pd.read_csv(\"data/TAIWAN_RAW_DATA/HEALTHY/A2_886003_20170228_130925/ms_A2FootSensor_886003_20170228_130925.csv\")\n",
    "healthy2 = pd.read_csv(\"data/TAIWAN_RAW_DATA/HEALTHY/A2_886004_20170304_152912/ms_A2FootSensor_886004_20170304_152912.csv\")\n",
    "healthy3 = pd.read_csv(\"data/TAIWAN_RAW_DATA/HEALTHY/A2_886005_20170304_160532/ms_A2FootSensor_886005_20170304_160532.csv\")\n",
    "healthy4 = pd.read_csv(\"data/TAIWAN_RAW_DATA/HEALTHY/A2_886007_20170305_102310/ms_A2FootSensor_886007_20170305_102310.csv\")\n",
    "healthy5 = pd.read_csv(\"data/TAIWAN_RAW_DATA/HEALTHY/A2_886008_20170305_105348/ms_A2FootSensor_886008_20170305_105348.csv\")\n",
    "healthy6 = pd.read_csv(\"data/TAIWAN_RAW_DATA/HEALTHY/A2_886009_20170305_112726/ms_A2FootSensor_886009_20170305_112726.csv\")\n",
    "healthy7 = pd.read_csv(\"data/TAIWAN_RAW_DATA/HEALTHY/A2_886011_20170309_190528/ms_A2FootSensor_886011_20170309_190528.csv\")\n",
    "healthy8 = pd.read_csv(\"data/TAIWAN_RAW_DATA/HEALTHY/A2_886012_20170309_193106/ms_A2FootSensor_886012_20170309_193106.csv\")\n",
    "healthy9 = pd.read_csv(\"data/TAIWAN_RAW_DATA/HEALTHY/A2_886013_20170309_200214/ms_A2FootSensor_886013_20170309_200214.csv\")\n",
    "healthy10 = pd.read_csv(\"data/TAIWAN_RAW_DATA/HEALTHY/A2_886014_20170309_205449/ms_A2FootSensor_886014_20170309_205449.csv\")\n",
    "#adhd.set_index(\"Time\", inplace = True);\n",
    "display(healthy10.head())\n",
    "ADHD = [adhd1, adhd2, adhd3, adhd4, adhd5, adhd6, adhd7, adhd8, adhd9, adhd10]\n",
    "HEALTHY = [healthy1, healthy2, healthy3, healthy4, healthy5, healthy6, healthy7, healthy8, healthy9, healthy10]\n",
    "TOTAL = [healthy2, healthy3, adhd3, healthy4, healthy5, healthy6, adhd4, healthy7, healthy8, healthy9, healthy10, adhd5, adhd6, adhd7, adhd8, adhd9, adhd10]\n",
    "SNAPcom = [1, 0, 30, 4, 2, 3, 18, 11, 11, 9, 6, 16, 32, 29]\n",
    "SNAPin = [1, 0, 19, 3, 1, 3, 12, 5, 5, 4, 5, 13, 16, 17]\n",
    "SNAPh = [0, 0, 11, 1, 1, 0, 6, 6, 6, 5, 1, 3, 16, 12]\n",
    "HIGHSNAP = [adhd3, adhd4, healthy7, healthy8, adhd5, adhd6, adhd7]\n",
    "LOWSNAP = [healthy2, healthy3, healthy4, healthy5, healthy6, healthy9, healthy10]\n",
    "\n"
   ]
  },
  {
   "cell_type": "code",
   "execution_count": 51,
   "metadata": {
    "collapsed": false
   },
   "outputs": [
    {
     "name": "stdout",
     "output_type": "stream",
     "text": [
      "15547\n",
      "0\n",
      "15547\n",
      "17416\n",
      "0\n",
      "17416\n",
      "15669\n",
      "0\n",
      "15669\n",
      "17638\n",
      "0\n",
      "17638\n",
      "17001\n",
      "0\n",
      "17001\n",
      "16409\n",
      "0\n",
      "16409\n",
      "17364\n",
      "0\n",
      "17364\n",
      "13241\n",
      "0\n",
      "13241\n",
      "11474\n",
      "0\n",
      "11474\n",
      "5658\n",
      "0\n",
      "5658\n",
      "17833\n",
      "0\n",
      "17833\n",
      "15750\n",
      "0\n",
      "15750\n",
      "11074\n",
      "0\n",
      "11074\n",
      "14319\n",
      "0\n",
      "14319\n",
      "16039\n",
      "0\n",
      "16039\n",
      "15550\n",
      "0\n",
      "15550\n",
      "16582\n",
      "0\n",
      "16582\n",
      "15547\n",
      "0\n",
      "5182\n",
      "17416\n",
      "0\n",
      "5805\n",
      "15669\n",
      "0\n",
      "5223\n",
      "17638\n",
      "0\n",
      "5879\n",
      "17001\n",
      "0\n",
      "5667\n",
      "16409\n",
      "0\n",
      "5469\n",
      "17364\n",
      "0\n",
      "5788\n",
      "13241\n",
      "0\n",
      "4413\n",
      "11474\n",
      "0\n",
      "3824\n",
      "5658\n",
      "0\n",
      "1886\n",
      "17833\n",
      "0\n",
      "5944\n",
      "15750\n",
      "0\n",
      "5250\n",
      "11074\n",
      "0\n",
      "3691\n",
      "14319\n",
      "0\n",
      "4773\n",
      "16039\n",
      "0\n",
      "5346\n",
      "15550\n",
      "0\n",
      "5183\n",
      "16582\n",
      "0\n",
      "5527\n",
      "15547\n",
      "5182\n",
      "10364\n",
      "17416\n",
      "5805\n",
      "11610\n",
      "15669\n",
      "5223\n",
      "10446\n",
      "17638\n",
      "5879\n",
      "11758\n",
      "17001\n",
      "5667\n",
      "11334\n",
      "16409\n",
      "5469\n",
      "10939\n",
      "17364\n",
      "5788\n",
      "11576\n",
      "13241\n",
      "4413\n",
      "8827\n",
      "11474\n",
      "3824\n",
      "7649\n",
      "5658\n",
      "1886\n",
      "3772\n",
      "17833\n",
      "5944\n",
      "11888\n",
      "15750\n",
      "5250\n",
      "10500\n",
      "11074\n",
      "3691\n",
      "7382\n",
      "14319\n",
      "4773\n",
      "9546\n",
      "16039\n",
      "5346\n",
      "10692\n",
      "15550\n",
      "5183\n",
      "10366\n",
      "16582\n",
      "5527\n",
      "11054\n",
      "15547\n",
      "10364\n",
      "15547\n",
      "17416\n",
      "11610\n",
      "17416\n",
      "15669\n",
      "10446\n",
      "15669\n",
      "17638\n",
      "11758\n",
      "17638\n",
      "17001\n",
      "11334\n",
      "17001\n",
      "16409\n",
      "10939\n",
      "16409\n",
      "17364\n",
      "11576\n",
      "17364\n",
      "13241\n",
      "8827\n",
      "13241\n",
      "11474\n",
      "7649\n",
      "11474\n",
      "5658\n",
      "3772\n",
      "5658\n",
      "17833\n",
      "11888\n",
      "17833\n",
      "15750\n",
      "10500\n",
      "15750\n",
      "11074\n",
      "7382\n",
      "11074\n",
      "14319\n",
      "9546\n",
      "14319\n",
      "16039\n",
      "10692\n",
      "16039\n",
      "15550\n",
      "10366\n",
      "15550\n",
      "16582\n",
      "11054\n",
      "16582\n"
     ]
    }
   ],
   "source": [
    "\n",
    "\n",
    "fre = 20\n",
    "cum1_foot= [0, 0, 0]\n",
    "cum2_foot = [0, 0, 0]\n",
    "cum1_foot_b1 = [0, 0, 0]\n",
    "cum1_foot_b2 = [0, 0, 0]\n",
    "cum1_foot_b3 = [0, 0, 0]\n",
    "cum2_foot_b1 = [0, 0, 0]\n",
    "cum2_foot_b2 = [0, 0, 0]\n",
    "cum2_foot_b3 = [0, 0, 0]\n",
    "\n",
    "cal_cum1(TOTAL, cum1_foot, 0, 1)\n",
    "cal_cum2(TOTAL, cum2_foot, 0, 1)\n",
    "cal_cum1(TOTAL, cum1_foot_b1, 0, 1/3)\n",
    "cal_cum2(TOTAL, cum2_foot_b1, 0, 1/3)\n",
    "cal_cum1(TOTAL, cum1_foot_b2, 1/3, 2/3)\n",
    "cal_cum2(TOTAL, cum2_foot_b2, 1/3, 2/3)\n",
    "cal_cum1(TOTAL, cum1_foot_b3, 2/3, 1)\n",
    "cal_cum2(TOTAL, cum2_foot_b3, 2/3, 1)"
   ]
  },
  {
   "cell_type": "markdown",
   "metadata": {},
   "source": [
    "# Print the result"
   ]
  },
  {
   "cell_type": "code",
   "execution_count": 54,
   "metadata": {
    "collapsed": false
   },
   "outputs": [
    {
     "name": "stdout",
     "output_type": "stream",
     "text": [
      "[0, 0, 0, 49.788359968412792, 70.354399768449852, 97.083310140180515, 27.745877507290619, 62.587353266239269, 23.436669134056594, 44.080177198509709, 31.608925718159366, 23.749578711595731, 34.328777975890546, 37.479079674892539, 27.768776024776809, 54.318721039584382, 16.334918608233192, 32.940153941207328, 70.685923114274132, 33.828783550868167]\n",
      "[0, 0, 0, 48.351386114578681, 49.759087814376706, 107.93613678784331, 19.700805356247535, 25.368789236938685, 17.424719338091226, 28.985162686701507, 30.069867929251505, 17.597920826818342, 31.467343019452798, 36.886738031348898, 35.44184441415355, 26.190119243541051, 9.3984740787507768, 30.227537651009484, 53.088691032805357, 29.300683673156378]\n",
      "[0, 0, 0, 46.66013464214403, 86.533076539602419, 97.063778118584722, 24.562417681715285, 68.535183871858379, 25.749805087970248, 39.261162178369197, 30.608118403592186, 21.264501944562838, 31.478074721796393, 37.717232102675688, 27.496039937328714, 77.848426922021289, 15.19202947865362, 35.322261723364491, 76.371551588429497, 30.172335126714955]\n",
      "[0, 0, 0, 54.337452334425535, 74.74882712172078, 86.202972242435649, 38.963268569833652, 93.840471336811191, 27.130589975254122, 63.96598015342461, 34.11889421820721, 32.376021982507851, 40.023540204275363, 37.814958473167692, 20.358277834691243, 58.900521950388438, 24.408775197556373, 33.25781095520454, 82.561305735872921, 42.00660894355147]\n",
      "[0, 0, 0, 30.914155062123555, 19.231583167033147, 71.667491454827967, 23.850920165359902, 48.460448654033257, 45.859009177135185, 63.911005546979922, 9.1814059786221787, 19.748443590927206, 21.551172173401717, 64.927351832890068, 9.1163344464411988, 56.389344219374905, 10.495503941150925, 23.357867973791642, 20.255551831923775, 16.730249447888742]\n",
      "[0, 0, 0, 22.540130490648853, 12.479194254116724, 85.283789606535578, 14.825721696364017, 8.8068340586228562, 21.014509575742007, 18.072709579783286, 8.251249982438523, 17.117464265155533, 21.533776347924384, 69.115527119862875, 8.1836023420515929, 23.896143683930731, 7.3424413651288347, 31.513298859670936, 6.9822957461079742, 15.984111792616313]\n",
      "[0, 0, 0, 53.075389916932643, 16.840071486171464, 66.464049432203353, 20.023875778029829, 36.46122253287858, 49.264887689948075, 30.253134023215406, 8.1420990510868982, 26.731263214543748, 16.758668154469738, 111.77239858584481, 9.353051942995279, 60.193990033837366, 10.961437611178471, 22.640906355109081, 26.851672204582417, 19.71567160881667]\n",
      "[0, 0, 0, 17.127309788417254, 28.371309778333977, 63.248809463470003, 36.698759878605699, 100.1093502780715, 67.282805193959035, 143.40275117586944, 11.148646020774132, 15.391795364063883, 26.355677645188305, 13.899830146811103, 9.8091985719181114, 85.0624855195245, 13.178093821943573, 15.890103867050755, 26.929427074536239, 14.488918582130562]\n",
      "[0, 0, 0, 33.728276632322618, 47.155819865273052, 66.132571578779306, 18.591859001324814, 42.31750852795922, 15.93423556300468, 30.370366865195514, 23.523758984904461, 16.05710410721802, 26.554061114891834, 26.332084598743872, 19.358939805235519, 37.011652127340582, 10.88245293016038, 21.432182416327237, 48.227142929907693, 23.312139659535156]\n",
      "[0, 0, 0, 32.817065533328154, 33.506506199858741, 73.391608345227155, 13.690403038425814, 17.459779652949109, 12.369755826411424, 19.484496582412135, 23.015193068484695, 12.122643810666025, 24.346930191324674, 24.456831306514285, 24.756626321539244, 17.909238049948986, 6.2749455770972427, 20.370752702397287, 35.789363422340372, 20.208232430806383]\n",
      "[0, 0, 0, 31.460780312412307, 57.989603843839205, 66.108618239655414, 16.489374857962094, 47.099335276201053, 17.318407292045286, 26.858699356728209, 23.622812057698084, 14.694962154395672, 25.115552201663689, 26.710492689229657, 19.112839455467675, 52.857453024277902, 10.23334431706011, 22.111646823564595, 52.140116951349611, 21.017570983437516]\n",
      "[0, 0, 0, 36.896333649376992, 49.956160194789597, 58.864871734113095, 25.588497893317534, 62.381656888958915, 18.111018041188554, 44.749177544593621, 23.911251628349845, 21.346172093988077, 30.186710952475519, 27.81668354448562, 14.200498299991258, 40.255927997358313, 16.134968607946142, 21.805231541777264, 56.724993799739252, 28.705803952708052]\n",
      "[0, 0, 0, 21.975877383389697, 13.028350688590674, 48.843100959609998, 16.638844250384484, 33.814260299276064, 32.810795642403967, 44.864759299059614, 6.3598808349104905, 12.458792752903598, 14.969620362403724, 47.895805785608239, 6.5824079731941172, 38.457286222479759, 7.3892147223358551, 16.685841949294392, 13.922780993744826, 12.020288805622512]\n",
      "[0, 0, 0, 16.009736748323188, 8.491046883525728, 57.593380620213068, 10.278151970616319, 6.5458906242968595, 15.464930279589906, 12.554677442129183, 5.9123359303857415, 10.53130625351517, 14.559251456179702, 50.594732582501415, 5.9090293899688211, 16.295261052714157, 5.1802755691032951, 22.838394389757262, 4.8638446747980604, 11.704005208139737]\n",
      "[0, 0, 0, 38.457079044496915, 11.402539560938642, 44.9367076772659, 13.91520335342739, 25.631504459495218, 35.042885336401973, 20.621501100998739, 5.7062893967747668, 16.44835767974844, 11.619628139653901, 82.681087429902988, 6.7443825201768712, 41.283291153173067, 7.693812809129275, 16.007695583383306, 18.472092992999841, 14.309683493978152]\n",
      "[0, 0, 0, 11.461407057729177, 19.188577166286169, 43.99561387388745, 25.720101890159079, 69.262719093100145, 47.914401133240631, 101.41503281821053, 7.4595670352552865, 10.39317033617724, 18.72610902871326, 10.415716135768722, 7.0916431226147623, 57.782937965714027, 9.2903301322326879, 11.189577414290893, 18.430137882125134, 10.045907013566357]\n"
     ]
    }
   ],
   "source": [
    "print (cum1_hand)\n",
    "print (cum1_hand_b1)\n",
    "print (cum1_hand_b2)\n",
    "print (cum1_hand_b3)\n",
    "\n",
    "print (cum1_foot)\n",
    "print (cum1_foot_b1)\n",
    "print (cum1_foot_b2)\n",
    "print (cum1_foot_b3)\n",
    "\n",
    "print (cum2_hand)\n",
    "print (cum2_hand_b1)\n",
    "print (cum2_hand_b2)\n",
    "print (cum2_hand_b3)\n",
    "\n",
    "print (cum2_foot)\n",
    "print (cum2_foot_b1)\n",
    "print (cum2_foot_b2)\n",
    "print (cum2_foot_b3)"
   ]
  },
  {
   "cell_type": "markdown",
   "metadata": {},
   "source": [
    "# Combine the other results from Suman"
   ]
  },
  {
   "cell_type": "code",
   "execution_count": 55,
   "metadata": {
    "collapsed": false
   },
   "outputs": [
    {
     "data": {
      "text/plain": [
       "Ttest_indResult(statistic=-1.7371366976470302, pvalue=0.10027114225448729)"
      ]
     },
     "execution_count": 55,
     "metadata": {},
     "output_type": "execute_result"
    }
   ],
   "source": [
    "#headrot\n",
    "healthy = [239, 122, 82, 146, 276, 131, 3, 22, 69, 6]\n",
    "adhd = [188, 59, 493, 211, 203, 205, 92, 157, 150, 160]\n",
    "head_rot = [adhd[0], adhd[1], healthy[0], healthy[1], healthy[2], adhd[2], healthy[3], healthy[4], healthy[5], adhd[3], healthy[6], healthy[7], healthy[8], healthy[9], adhd[4], adhd[5], adhd[6], adhd[7], adhd[8], adhd[9]]\n",
    "import scipy.stats as stats\n",
    "stats.ttest_ind(a= healthy,\n",
    "                b= adhd,\n",
    "                equal_var=False) "
   ]
  },
  {
   "cell_type": "code",
   "execution_count": 56,
   "metadata": {
    "collapsed": false
   },
   "outputs": [
    {
     "data": {
      "text/plain": [
       "Ttest_indResult(statistic=-0.11303998404706189, pvalue=0.91143712969280966)"
      ]
     },
     "execution_count": 56,
     "metadata": {},
     "output_type": "execute_result"
    }
   ],
   "source": [
    "#number of small head movements\n",
    "healthy = [4216, 455, 1066, 1487, 3678, 967, 143, 240, 725, 47]\n",
    "adhd = [2058, 166, 7211, 581, 33, 384, 266, 399, 2566, 310]\n",
    "head_moves = [adhd[0], adhd[1], healthy[0], healthy[1], healthy[2], adhd[2], healthy[3], healthy[4], healthy[5], adhd[3], healthy[6], healthy[7], healthy[8], healthy[9], adhd[4], adhd[5], adhd[6], adhd[7], adhd[8], adhd[9]]\n",
    "import scipy.stats as stats\n",
    "stats.ttest_ind(a= healthy,\n",
    "                b= adhd,\n",
    "                equal_var=False) "
   ]
  },
  {
   "cell_type": "code",
   "execution_count": 57,
   "metadata": {
    "collapsed": false
   },
   "outputs": [
    {
     "data": {
      "text/plain": [
       "Ttest_indResult(statistic=-0.29517197848894156, pvalue=0.7718941272276747)"
      ]
     },
     "execution_count": 57,
     "metadata": {},
     "output_type": "execute_result"
    }
   ],
   "source": [
    "#path length\n",
    "healthy = [42.46, 19.87, 24.98, 22.33, 35.97, 19.96, 13.01, 13.57, 16.61, 12.29]\n",
    "adhd = [27.62, 15.06, 66.29, 19.75, 11.77, 18.78, 13.71, 17.29, 31.91, 16.61]\n",
    "path_length = [adhd[0], adhd[1], healthy[0], healthy[1], healthy[2], adhd[2], healthy[3], healthy[4], healthy[5], adhd[3], healthy[6], healthy[7], healthy[8], healthy[9], adhd[4], adhd[5], adhd[6], adhd[7], adhd[8], adhd[9]]\n",
    "import scipy.stats as stats\n",
    "stats.ttest_ind(a= healthy,\n",
    "                b= adhd,\n",
    "                equal_var=False) "
   ]
  },
  {
   "cell_type": "markdown",
   "metadata": {},
   "source": [
    "# Store the result"
   ]
  },
  {
   "cell_type": "code",
   "execution_count": 58,
   "metadata": {
    "collapsed": false
   },
   "outputs": [],
   "source": [
    "area = pd.DataFrame(\n",
    "    {'Num_head_rot': head_rot,\n",
    "     \"Num_head_move\": head_moves,\n",
    "     \"Head_path_len\": path_length,\n",
    "    'Hand_area1': cum1_hand,\n",
    "     'Hand_area2': cum2_hand,\n",
    "     'Foot_area1': cum1_foot,\n",
    "     'Foot_area2': cum2_foot,\n",
    "     'Hand_area1_b1': cum1_hand_b1,\n",
    "     'Hand_area2_b1': cum2_hand_b1,\n",
    "     'Foot_area1_b1': cum1_foot_b1,\n",
    "     'Foot_area2_b1': cum2_foot_b1,\n",
    "     'Hand_area1_b2': cum1_hand_b2,\n",
    "     'Hand_area2_b2': cum2_hand_b2,\n",
    "     'Foot_area1_b2': cum1_foot_b2,\n",
    "     'Foot_area2_b2': cum2_foot_b2,\n",
    "     'Hand_area1_b3': cum1_hand_b3,\n",
    "     'Hand_area2_b3': cum2_hand_b3,\n",
    "     'Foot_area1_b3': cum1_foot_b3,\n",
    "     'Foot_area2_b3': cum2_foot_b3}\n",
    "     \n",
    "    )\n",
    "area.to_csv(\"features_withblock.csv\")"
   ]
  },
  {
   "cell_type": "code",
   "execution_count": 9,
   "metadata": {
    "collapsed": false
   },
   "outputs": [
    {
     "name": "stdout",
     "output_type": "stream",
     "text": [
      "[97.083310140180515, 44.080177198509709, 27.768776024776809, 54.318721039584382, 16.334918608233192, 32.940153941207328, 70.685923114274132, 33.828783550868167]\n",
      "[49.788359968412792, 70.354399768449852, 27.745877507290619, 62.587353266239269, 23.436669134056594, 31.608925718159366, 23.749578711595731, 34.328777975890546, 37.479079674892539]\n"
     ]
    }
   ],
   "source": [
    "fre = 20\n",
    "ADHD_cum1 = []\n",
    "HEALTHY_cum1 = []\n",
    "def cal_cum1(ADHDorHEALTHY, cum1):\n",
    "    for item in ADHDorHEALTHY:\n",
    "        s = (sum(abs(item['Ax']))-0.5 * abs(item['Ax'][0])-0.5* abs(item['Ax'][len(item['Ax'])-1]))/fre  #calclate area under x axis\n",
    "        s += (sum(abs(item['Ay']))-0.5 * abs(item['Ay'][0])-0.5* abs(item['Ay'][len(item['Ay'])-1]))/fre #calsulate and add area under y axis\n",
    "        s += (sum(abs(item['Az']))-0.5 * abs(item['Az'][0])-0.5* abs(item['Az'][len(item['Az'])-1]))/fre #calculate and add area under z axis\n",
    "        s = s / (len(item['Ax'])/fre/60) #divide by length of the duration(min)\n",
    "        cum1.append(s)\n",
    "cal_cum1(ADHD, ADHD_cum1)\n",
    "cal_cum1(HEALTHY, HEALTHY_cum1)\n",
    "print(ADHD_cum1)\n",
    "print(HEALTHY_cum1)\n"
   ]
  },
  {
   "cell_type": "code",
   "execution_count": 10,
   "metadata": {
    "collapsed": false
   },
   "outputs": [
    {
     "data": {
      "text/plain": [
       "Ttest_indResult(statistic=-0.64471659309857765, pvalue=0.53145374767700315)"
      ]
     },
     "execution_count": 10,
     "metadata": {},
     "output_type": "execute_result"
    }
   ],
   "source": [
    "import scipy.stats as stats\n",
    "stats.ttest_ind(a= HEALTHY_cum1,\n",
    "                b= ADHD_cum1,\n",
    "                equal_var=False) "
   ]
  },
  {
   "cell_type": "markdown",
   "metadata": {},
   "source": [
    "# Square root of the sum of squares of Ax, Ay, Az"
   ]
  },
  {
   "cell_type": "code",
   "execution_count": 14,
   "metadata": {
    "collapsed": false
   },
   "outputs": [
    {
     "name": "stdout",
     "output_type": "stream",
     "text": [
      "[66.132571578779306, 30.370366865195514, 19.358939805235519, 37.011652127340582, 10.88245293016038, 21.432182416327237, 48.227142929907693, 23.312139659535156]\n",
      "[33.728276632322618, 47.155819865273052, 18.591859001324814, 42.31750852795922, 15.93423556300468, 23.523758984904461, 16.05710410721802, 26.554061114891834, 26.332084598743872]\n"
     ]
    }
   ],
   "source": [
    "fre = 20\n",
    "ADHD_cum2 = []\n",
    "HEALTHY_cum2 = []\n",
    "def cal_cum2(ADHDorHEALTHY, cum2):\n",
    "    for item in ADHDorHEALTHY:\n",
    "        acc_total = (item['Ax']**2 + item['Ay']**2 + item['Az']**2) ** 0.5 #calculate total acceleration with pythagorean theory\n",
    "        s = (sum(acc_total)-0.5 * acc_total[0]-0.5* acc_total[len(acc_total)-1])/fre #calculae the area under the total acceleration cure\n",
    "        s = s / (len(acc_total)/fre/60) #divide by length of the duration(min)\n",
    "        cum2.append(s)\n",
    "cal_cum2(ADHD, ADHD_cum2)\n",
    "cal_cum2(HEALTHY, HEALTHY_cum2)\n",
    "print(ADHD_cum2)\n",
    "print(HEALTHY_cum2)"
   ]
  },
  {
   "cell_type": "code",
   "execution_count": 12,
   "metadata": {
    "collapsed": false
   },
   "outputs": [
    {
     "data": {
      "text/plain": [
       "Ttest_indResult(statistic=-0.5832858296409239, pvalue=0.5709626340766083)"
      ]
     },
     "execution_count": 12,
     "metadata": {},
     "output_type": "execute_result"
    }
   ],
   "source": [
    "import scipy.stats as stats\n",
    "stats.ttest_ind(a= HEALTHY_cum2,\n",
    "                b= ADHD_cum2,\n",
    "                equal_var=False) "
   ]
  },
  {
   "cell_type": "markdown",
   "metadata": {},
   "source": [
    "# Not group by ADHD, but see whether there's correlation between SNAP and acceleration cumulative"
   ]
  },
  {
   "cell_type": "code",
   "execution_count": 55,
   "metadata": {
    "collapsed": true
   },
   "outputs": [],
   "source": [
    "fre = 20\n",
    "TOTAL_cum1 = []\n",
    "TOTAL_cum2 = []\n",
    "cal_cum1(TOTAL, TOTAL_cum1)\n",
    "cal_cum2(TOTAL, TOTAL_cum2)"
   ]
  },
  {
   "cell_type": "code",
   "execution_count": 56,
   "metadata": {
    "collapsed": false
   },
   "outputs": [
    {
     "data": {
      "text/plain": [
       "LinregressResult(slope=0.11148138280297384, intercept=8.3416290204329435, rvalue=0.22445918689729602, pvalue=0.44042774971674747, stderr=0.13971686248735024)"
      ]
     },
     "execution_count": 56,
     "metadata": {},
     "output_type": "execute_result"
    }
   ],
   "source": [
    "import scipy.stats as stats\n",
    "stats.linregress(TOTAL_cum1,\n",
    "                 SNAPcom) "
   ]
  },
  {
   "cell_type": "code",
   "execution_count": 57,
   "metadata": {
    "collapsed": false
   },
   "outputs": [
    {
     "data": {
      "text/plain": [
       "LinregressResult(slope=0.13854196753494014, intercept=8.8608678134975989, rvalue=0.19717439894844102, pvalue=0.49925881194387356, stderr=0.19885179677449757)"
      ]
     },
     "execution_count": 57,
     "metadata": {},
     "output_type": "execute_result"
    }
   ],
   "source": [
    "import scipy.stats as stats\n",
    "stats.linregress(TOTAL_cum2,\n",
    "                 SNAPcom) "
   ]
  },
  {
   "cell_type": "code",
   "execution_count": 58,
   "metadata": {
    "collapsed": false
   },
   "outputs": [
    {
     "data": {
      "text/plain": [
       "LinregressResult(slope=0.074934011728566313, intercept=4.7774908257286217, rvalue=0.25727155968325571, pvalue=0.37456447345448818, stderr=0.081250520990218247)"
      ]
     },
     "execution_count": 58,
     "metadata": {},
     "output_type": "execute_result"
    }
   ],
   "source": [
    "import scipy.stats as stats\n",
    "stats.linregress(TOTAL_cum1,\n",
    "                 SNAPin) "
   ]
  },
  {
   "cell_type": "code",
   "execution_count": 59,
   "metadata": {
    "collapsed": false
   },
   "outputs": [
    {
     "data": {
      "text/plain": [
       "LinregressResult(slope=0.097330089052431387, intercept=5.0225090774814065, rvalue=0.23620770084164561, pvalue=0.41621250409884281, stderr=0.11558349043922869)"
      ]
     },
     "execution_count": 59,
     "metadata": {},
     "output_type": "execute_result"
    }
   ],
   "source": [
    "import scipy.stats as stats\n",
    "stats.linregress(TOTAL_cum2,\n",
    "                 SNAPin) "
   ]
  },
  {
   "cell_type": "code",
   "execution_count": 60,
   "metadata": {
    "collapsed": false
   },
   "outputs": [
    {
     "data": {
      "text/plain": [
       "LinregressResult(slope=0.036547371074407531, intercept=3.5641381947043218, rvalue=0.16168831664094732, pvalue=0.58078863322559326, stderr=0.064392376008821528)"
      ]
     },
     "execution_count": 60,
     "metadata": {},
     "output_type": "execute_result"
    }
   ],
   "source": [
    "import scipy.stats as stats\n",
    "stats.linregress(TOTAL_cum1,\n",
    "                 SNAPh) "
   ]
  },
  {
   "cell_type": "code",
   "execution_count": 61,
   "metadata": {
    "collapsed": false
   },
   "outputs": [
    {
     "data": {
      "text/plain": [
       "LinregressResult(slope=0.041211878482508735, intercept=3.8383587360161924, rvalue=0.12887807590462899, pvalue=0.66059061650949102, stderr=0.091541017474605649)"
      ]
     },
     "execution_count": 61,
     "metadata": {},
     "output_type": "execute_result"
    }
   ],
   "source": [
    "import scipy.stats as stats\n",
    "stats.linregress(TOTAL_cum2,\n",
    "                 SNAPh) "
   ]
  },
  {
   "cell_type": "markdown",
   "metadata": {},
   "source": [
    "# Group by HighSnap and LowSnap"
   ]
  },
  {
   "cell_type": "code",
   "execution_count": 63,
   "metadata": {
    "collapsed": false
   },
   "outputs": [],
   "source": [
    "HIGHSNAP_cum1 = []\n",
    "HIGHSNAP_cum2 = []\n",
    "LOWSNAP_cum1 = []\n",
    "LOWSNAP_cum2 = []\n",
    "cal_cum1(HIGHSNAP, HIGHSNAP_cum1)\n",
    "cal_cum1(LOWSNAP, LOWSNAP_cum1)\n",
    "cal_cum2(HIGHSNAP, HIGHSNAP_cum2)\n",
    "cal_cum2(LOWSNAP, LOWSNAP_cum2)"
   ]
  },
  {
   "cell_type": "code",
   "execution_count": 64,
   "metadata": {
    "collapsed": false
   },
   "outputs": [
    {
     "data": {
      "text/plain": [
       "Ttest_indResult(statistic=-0.16333718086790372, pvalue=0.87355174226968202)"
      ]
     },
     "execution_count": 64,
     "metadata": {},
     "output_type": "execute_result"
    }
   ],
   "source": [
    "import scipy.stats as stats\n",
    "stats.ttest_ind(a= HIGHSNAP_cum1,\n",
    "                b= LOWSNAP_cum1,\n",
    "                equal_var=False) "
   ]
  },
  {
   "cell_type": "code",
   "execution_count": 65,
   "metadata": {
    "collapsed": false
   },
   "outputs": [
    {
     "data": {
      "text/plain": [
       "Ttest_indResult(statistic=-0.26215185593531931, pvalue=0.7983482165100142)"
      ]
     },
     "execution_count": 65,
     "metadata": {},
     "output_type": "execute_result"
    }
   ],
   "source": [
    "import scipy.stats as stats\n",
    "stats.ttest_ind(a= HIGHSNAP_cum2,\n",
    "                b= LOWSNAP_cum2,\n",
    "                equal_var=False) "
   ]
  }
 ],
 "metadata": {
  "anaconda-cloud": {},
  "kernelspec": {
   "display_name": "Python [conda root]",
   "language": "python",
   "name": "conda-root-py"
  },
  "language_info": {
   "codemirror_mode": {
    "name": "ipython",
    "version": 3
   },
   "file_extension": ".py",
   "mimetype": "text/x-python",
   "name": "python",
   "nbconvert_exporter": "python",
   "pygments_lexer": "ipython3",
   "version": "3.5.2"
  }
 },
 "nbformat": 4,
 "nbformat_minor": 1
}
