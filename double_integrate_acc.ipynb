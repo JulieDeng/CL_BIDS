{
 "cells": [
  {
   "cell_type": "code",
   "execution_count": 2,
   "metadata": {
    "collapsed": false
   },
   "outputs": [
    {
     "data": {
      "text/html": [
       "<div>\n",
       "<table border=\"1\" class=\"dataframe\">\n",
       "  <thead>\n",
       "    <tr style=\"text-align: right;\">\n",
       "      <th></th>\n",
       "      <th>Unnamed: 0</th>\n",
       "      <th>Unnamed: 0.1</th>\n",
       "      <th>Time</th>\n",
       "      <th>Pitch</th>\n",
       "      <th>Roll</th>\n",
       "      <th>Yaw</th>\n",
       "      <th>Ax</th>\n",
       "      <th>Ay</th>\n",
       "      <th>Az</th>\n",
       "      <th>Mx</th>\n",
       "      <th>My</th>\n",
       "      <th>Mz</th>\n",
       "      <th>Wx</th>\n",
       "      <th>Wy</th>\n",
       "      <th>Wz</th>\n",
       "    </tr>\n",
       "  </thead>\n",
       "  <tbody>\n",
       "    <tr>\n",
       "      <th>0</th>\n",
       "      <td>0</td>\n",
       "      <td>0</td>\n",
       "      <td>20170309-205449-306</td>\n",
       "      <td>-18.627319</td>\n",
       "      <td>-56.579590</td>\n",
       "      <td>56.848755</td>\n",
       "      <td>0.099427</td>\n",
       "      <td>-0.246368</td>\n",
       "      <td>0.164560</td>\n",
       "      <td>605</td>\n",
       "      <td>89</td>\n",
       "      <td>327</td>\n",
       "      <td>-1.037598</td>\n",
       "      <td>0.122070</td>\n",
       "      <td>0.183105</td>\n",
       "    </tr>\n",
       "    <tr>\n",
       "      <th>1</th>\n",
       "      <td>1</td>\n",
       "      <td>1</td>\n",
       "      <td>20170309-205449-349</td>\n",
       "      <td>-18.610840</td>\n",
       "      <td>-56.705933</td>\n",
       "      <td>57.024536</td>\n",
       "      <td>0.065936</td>\n",
       "      <td>-0.160241</td>\n",
       "      <td>0.212400</td>\n",
       "      <td>595</td>\n",
       "      <td>95</td>\n",
       "      <td>305</td>\n",
       "      <td>-3.906250</td>\n",
       "      <td>0.244141</td>\n",
       "      <td>0.183105</td>\n",
       "    </tr>\n",
       "    <tr>\n",
       "      <th>2</th>\n",
       "      <td>2</td>\n",
       "      <td>2</td>\n",
       "      <td>20170309-205449-392</td>\n",
       "      <td>-18.583374</td>\n",
       "      <td>-56.837769</td>\n",
       "      <td>57.068481</td>\n",
       "      <td>0.132175</td>\n",
       "      <td>-0.221434</td>\n",
       "      <td>0.182902</td>\n",
       "      <td>589</td>\n",
       "      <td>31</td>\n",
       "      <td>381</td>\n",
       "      <td>-2.624512</td>\n",
       "      <td>0.549316</td>\n",
       "      <td>0.000000</td>\n",
       "    </tr>\n",
       "    <tr>\n",
       "      <th>3</th>\n",
       "      <td>3</td>\n",
       "      <td>3</td>\n",
       "      <td>20170309-205449-435</td>\n",
       "      <td>-18.577881</td>\n",
       "      <td>-56.964111</td>\n",
       "      <td>57.156372</td>\n",
       "      <td>0.074383</td>\n",
       "      <td>-0.204554</td>\n",
       "      <td>0.169391</td>\n",
       "      <td>596</td>\n",
       "      <td>84</td>\n",
       "      <td>322</td>\n",
       "      <td>-2.807617</td>\n",
       "      <td>0.305176</td>\n",
       "      <td>-0.061035</td>\n",
       "    </tr>\n",
       "    <tr>\n",
       "      <th>4</th>\n",
       "      <td>4</td>\n",
       "      <td>4</td>\n",
       "      <td>20170309-205449-478</td>\n",
       "      <td>-18.561401</td>\n",
       "      <td>-57.095947</td>\n",
       "      <td>57.216797</td>\n",
       "      <td>0.134126</td>\n",
       "      <td>-0.244766</td>\n",
       "      <td>0.137016</td>\n",
       "      <td>615</td>\n",
       "      <td>79</td>\n",
       "      <td>335</td>\n",
       "      <td>-2.868652</td>\n",
       "      <td>0.061035</td>\n",
       "      <td>-0.427246</td>\n",
       "    </tr>\n",
       "  </tbody>\n",
       "</table>\n",
       "</div>"
      ],
      "text/plain": [
       "   Unnamed: 0  Unnamed: 0.1                 Time      Pitch       Roll  \\\n",
       "0           0             0  20170309-205449-306 -18.627319 -56.579590   \n",
       "1           1             1  20170309-205449-349 -18.610840 -56.705933   \n",
       "2           2             2  20170309-205449-392 -18.583374 -56.837769   \n",
       "3           3             3  20170309-205449-435 -18.577881 -56.964111   \n",
       "4           4             4  20170309-205449-478 -18.561401 -57.095947   \n",
       "\n",
       "         Yaw        Ax        Ay        Az   Mx  My   Mz        Wx        Wy  \\\n",
       "0  56.848755  0.099427 -0.246368  0.164560  605  89  327 -1.037598  0.122070   \n",
       "1  57.024536  0.065936 -0.160241  0.212400  595  95  305 -3.906250  0.244141   \n",
       "2  57.068481  0.132175 -0.221434  0.182902  589  31  381 -2.624512  0.549316   \n",
       "3  57.156372  0.074383 -0.204554  0.169391  596  84  322 -2.807617  0.305176   \n",
       "4  57.216797  0.134126 -0.244766  0.137016  615  79  335 -2.868652  0.061035   \n",
       "\n",
       "         Wz  \n",
       "0  0.183105  \n",
       "1  0.183105  \n",
       "2  0.000000  \n",
       "3 -0.061035  \n",
       "4 -0.427246  "
      ]
     },
     "metadata": {},
     "output_type": "display_data"
    }
   ],
   "source": [
    "import pandas as pd\n",
    "import matplotlib.pyplot as plt\n",
    "from IPython.display import display, HTML\n",
    "adhd1 = pd.read_csv(\"data/TAIWAN_RAW_DATA/ADHD/A2_886001_20170227_184017/ms_A2HandSensor_886001_20170227_184017.csv\") # has no hands and feet data\n",
    "adhd2 = pd.read_csv(\"data/TAIWAN_RAW_DATA/ADHD/A2_886002_20170228_104813/ms_A2HandSensor_886002_20170228_104813.csv\")#has not hands and feet data\n",
    "adhd3 = pd.read_csv(\"data/TAIWAN_RAW_DATA/ADHD/A2_886006_20170304_172008/ms_A2HandSensor_886006_20170304_172008.csv\")\n",
    "adhd4 = pd.read_csv(\"data/TAIWAN_RAW_DATA/ADHD/A2_886010_20170305_132607/ms_A2HandSensor_886010_20170305_132607.csv\")\n",
    "adhd5 = pd.read_csv(\"data/TAIWAN_RAW_DATA/ADHD/A2_886015_20170311_153739/ms_A2HandSensor_886015_20170311_153739.csv\")\n",
    "adhd6 = pd.read_csv(\"data/TAIWAN_RAW_DATA/ADHD/A2_886016_20170311_184832/ms_A2HandSensor_886016_20170311_184832.csv\")\n",
    "adhd7 = pd.read_csv(\"data/TAIWAN_RAW_DATA/ADHD/A2_886017_20170312_112519/ms_A2HandSensor_886017_20170312_112519.csv\")\n",
    "adhd8 = pd.read_csv(\"data/TAIWAN_RAW_DATA/ADHD/A2_886018_20170317_192755/ms_A2HandSensor_886018_20170317_192755.csv\")\n",
    "adhd9 = pd.read_csv(\"data/TAIWAN_RAW_DATA/ADHD/A2_886019_20170318_130057/ms_A2HandSensor_886019_20170318_130057.csv\")\n",
    "adhd10 =  pd.read_csv(\"data/TAIWAN_RAW_DATA/ADHD/A2_886020_20170318_135002/ms_A2HandSensor_886020_20170318_135002.csv\")\n",
    "healthy1 = pd.read_csv(\"data/TAIWAN_RAW_DATA/HEALTHY/A2_886003_20170228_130925/ms_A2HandSensor_886003_20170228_130925.csv\")\n",
    "healthy2 = pd.read_csv(\"data/TAIWAN_RAW_DATA/HEALTHY/A2_886004_20170304_152912/ms_A2HandSensor_886004_20170304_152912.csv\")\n",
    "healthy3 = pd.read_csv(\"data/TAIWAN_RAW_DATA/HEALTHY/A2_886005_20170304_160532/ms_A2HandSensor_886005_20170304_160532.csv\")\n",
    "healthy4 = pd.read_csv(\"data/TAIWAN_RAW_DATA/HEALTHY/A2_886007_20170305_102310/ms_A2HandSensor_886007_20170305_102310.csv\")\n",
    "healthy5 = pd.read_csv(\"data/TAIWAN_RAW_DATA/HEALTHY/A2_886008_20170305_105348/ms_A2HandSensor_886008_20170305_105348.csv\")\n",
    "healthy6 = pd.read_csv(\"data/TAIWAN_RAW_DATA/HEALTHY/A2_886009_20170305_112726/ms_A2HandSensor_886009_20170305_112726.csv\")\n",
    "healthy7 = pd.read_csv(\"data/TAIWAN_RAW_DATA/HEALTHY/A2_886011_20170309_190528/ms_A2HandSensor_886011_20170309_190528.csv\")\n",
    "healthy8 = pd.read_csv(\"data/TAIWAN_RAW_DATA/HEALTHY/A2_886012_20170309_193106/ms_A2HandSensor_886012_20170309_193106.csv\")\n",
    "healthy9 = pd.read_csv(\"data/TAIWAN_RAW_DATA/HEALTHY/A2_886013_20170309_200214/ms_A2HandSensor_886013_20170309_200214.csv\")\n",
    "healthy10 = pd.read_csv(\"data/TAIWAN_RAW_DATA/HEALTHY/A2_886014_20170309_205449/ms_A2HandSensor_886014_20170309_205449.csv\")\n",
    "#adhd.set_index(\"Time\", inplace = True);\n",
    "display(healthy10.head())\n",
    "ADHD = [adhd1, adhd2, adhd3, adhd4, adhd5, adhd6, adhd7, adhd8, adhd9, adhd10]\n",
    "HEALTHY = [healthy1, healthy2, healthy3, healthy4, healthy5, healthy6, healthy7, healthy8, healthy9, healthy10]\n",
    "TOTAL = [healthy2, healthy3, adhd3, healthy4, healthy5, healthy6, adhd4, healthy7, healthy8, healthy9, healthy10, adhd5, adhd6, adhd7, adhd8, adhd9, adhd10]\n",
    "SNAPcom = [1, 0, 30, 4, 2, 3, 18, 11, 11, 9, 6, 16, 32, 29]\n",
    "SNAPin = [1, 0, 19, 3, 1, 3, 12, 5, 5, 4, 5, 13, 16, 17]\n",
    "SNAPh = [0, 0, 11, 1, 1, 0, 6, 6, 6, 5, 1, 3, 16, 12]\n",
    "HIGHSNAP = [adhd3, adhd4, healthy7, healthy8, adhd5, adhd6, adhd7]\n",
    "LOWSNAP = [healthy2, healthy3, healthy4, healthy5, healthy6, healthy9, healthy10]"
   ]
  },
  {
   "cell_type": "code",
   "execution_count": 17,
   "metadata": {
    "collapsed": true
   },
   "outputs": [],
   "source": [
    "from scipy import integrate\n",
    "DISPLACEMENTx = [] #the first three subjects are losing data\n",
    "DISPLACEMENTy = [] #the first three subjects are losing data\n",
    "DISPLACEMENTz = [] #the first three subjects are losing data\n",
    "fre = 20\n",
    "for item in TOTAL:\n",
    "    oncex = integrate.cumtrapz(item['Ax'], dx=1/fre,  initial=0)\n",
    "    oncey = integrate.cumtrapz(item['Ay'], dx=1/fre,  initial=0)\n",
    "    oncez = integrate.cumtrapz(item['Az'], dx=1/fre,  initial=0)\n",
    "    twicex = integrate.cumtrapz(oncex, dx=1/fre,  initial=0)\n",
    "    twicey = integrate.cumtrapz(oncey, dx=1/fre,  initial=0)\n",
    "    twicez = integrate.cumtrapz(oncez, dx=1/fre,  initial=0)\n",
    "    DISPLACEMENTx.append(twicex)\n",
    "    DISPLACEMENTy.append(twicey)\n",
    "    DISPLACEMENTz.append(twicez)"
   ]
  },
  {
   "cell_type": "code",
   "execution_count": 10,
   "metadata": {
    "collapsed": false
   },
   "outputs": [
    {
     "name": "stdout",
     "output_type": "stream",
     "text": [
      "15937 15937\n"
     ]
    }
   ],
   "source": [
    "print(len(DISPLACEMENTx[0]), len(TOTAL[0]['Ax']))"
   ]
  },
  {
   "cell_type": "code",
   "execution_count": 23,
   "metadata": {
    "collapsed": false
   },
   "outputs": [
    {
     "name": "stdout",
     "output_type": "stream",
     "text": [
      "[  0.00000000e+00   2.68075813e-04   1.21283200e-03 ...,   3.75180529e+04\n",
      "   3.75220243e+04   3.75260002e+04]\n"
     ]
    }
   ],
   "source": [
    "print(DISPLACEMENTx[1])"
   ]
  },
  {
   "cell_type": "code",
   "execution_count": 21,
   "metadata": {
    "collapsed": false
   },
   "outputs": [
    {
     "name": "stdout",
     "output_type": "stream",
     "text": [
      "[62184.79944269514, 49827.919768868735, 78046.09674966395, 30763.213387742857, 70216.6906332743, 48586.1850454806, 43771.848412721105, 16557.241793418325, 28604.363167722167, 77713.19732652474, 78275.42905357435, 84292.17454348218, 46950.146941686384, 17781.663813739407, 78076.04618074353, 79006.0522729896, 62130.415994004594]\n"
     ]
    }
   ],
   "source": [
    "import math\n",
    "\n",
    "DISPLACEMENT = []\n",
    "for i in range(len(TOTAL)):\n",
    "    length = 0\n",
    "    for j in range(len(DISPLACEMENTx[i])-1):\n",
    "        dx = DISPLACEMENTx[i][j+1] - DISPLACEMENTx[i][j]\n",
    "        dy = DISPLACEMENTy[i][j+1] - DISPLACEMENTy[i][j]\n",
    "        dz = DISPLACEMENTz[i][j+1] - DISPLACEMENTz[i][j]\n",
    "        length += math.sqrt(dx**2 + dy**2 + dz**2)\n",
    "    DISPLACEMENT.append(length)\n",
    "print(DISPLACEMENT)"
   ]
  }
 ],
 "metadata": {
  "kernelspec": {
   "display_name": "Python [conda root]",
   "language": "python",
   "name": "conda-root-py"
  },
  "language_info": {
   "codemirror_mode": {
    "name": "ipython",
    "version": 3
   },
   "file_extension": ".py",
   "mimetype": "text/x-python",
   "name": "python",
   "nbconvert_exporter": "python",
   "pygments_lexer": "ipython3",
   "version": "3.5.2"
  }
 },
 "nbformat": 4,
 "nbformat_minor": 1
}
