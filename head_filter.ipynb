{
 "cells": [
  {
   "cell_type": "markdown",
   "metadata": {},
   "source": [
    "# Import Real Time Head Data for 14 kids (4 ADHD, 10 Healthy)"
   ]
  },
  {
   "cell_type": "code",
   "execution_count": 1,
   "metadata": {
    "collapsed": false
   },
   "outputs": [],
   "source": [
    "import pandas as pd\n",
    "import matplotlib.pyplot as plt\n",
    "from IPython.display import display, HTML\n",
    "adhd1 = pd.read_csv(\"data/TAIWAN_RAW_DATA/ADHD/A2_886001_20170227_184017/A2RealTime_886001_20170227_184017.csv\") # has no hands and feet data\n",
    "adhd2 = pd.read_csv(\"data/TAIWAN_RAW_DATA/ADHD/A2_886002_20170228_104813/A2RealTime_886002_20170228_104813.csv\")#has not hands and feet data\n",
    "adhd3 = pd.read_csv(\"data/TAIWAN_RAW_DATA/ADHD/A2_886006_20170304_172008/A2RealTime_886006_20170304_172008.csv\")\n",
    "adhd4 = pd.read_csv(\"data/TAIWAN_RAW_DATA/ADHD/A2_886010_20170305_132607/A2RealTime_886010_20170305_132607.csv\")\n",
    "adhd5 = pd.read_csv(\"data/TAIWAN_RAW_DATA/ADHD/A2_886015_20170311_153739/A2RealTime_886015_20170311_153739.csv\")\n",
    "adhd6 = pd.read_csv(\"data/TAIWAN_RAW_DATA/ADHD/A2_886016_20170311_184832/A2RealTime_886016_20170311_184832.csv\")\n",
    "adhd7 = pd.read_csv(\"data/TAIWAN_RAW_DATA/ADHD/A2_886017_20170312_112519/A2RealTime_886017_20170312_112519.csv\")\n",
    "adhd8 = pd.read_csv(\"data/TAIWAN_RAW_DATA/ADHD/A2_886018_20170317_192755/A2RealTime_886018_20170317_192755.csv\")\n",
    "adhd9 = pd.read_csv(\"data/TAIWAN_RAW_DATA/ADHD/A2_886019_20170318_130057/A2RealTime_886019_20170318_130057.csv\")\n",
    "adhd10 =  pd.read_csv(\"data/TAIWAN_RAW_DATA/ADHD/A2_886020_20170318_135002/A2RealTime_886020_20170318_135002.csv\")\n",
    "healthy1 = pd.read_csv(\"data/TAIWAN_RAW_DATA/HEALTHY/A2_886003_20170228_130925/A2RealTime_886003_20170228_130925.csv\")\n",
    "healthy2 = pd.read_csv(\"data/TAIWAN_RAW_DATA/HEALTHY/A2_886004_20170304_152912/A2RealTime_886004_20170304_152912.csv\")\n",
    "healthy3 = pd.read_csv(\"data/TAIWAN_RAW_DATA/HEALTHY/A2_886005_20170304_160532/A2RealTime_886005_20170304_160532.csv\")\n",
    "healthy4 = pd.read_csv(\"data/TAIWAN_RAW_DATA/HEALTHY/A2_886007_20170305_102310/A2RealTime_886007_20170305_102310.csv\")\n",
    "healthy5 = pd.read_csv(\"data/TAIWAN_RAW_DATA/HEALTHY/A2_886008_20170305_105348/A2RealTime_886008_20170305_105348.csv\")\n",
    "healthy6 = pd.read_csv(\"data/TAIWAN_RAW_DATA/HEALTHY/A2_886009_20170305_112726/A2RealTime_886009_20170305_112726.csv\")\n",
    "healthy7 = pd.read_csv(\"data/TAIWAN_RAW_DATA/HEALTHY/A2_886011_20170309_190528/A2RealTime_886011_20170309_190528.csv\")\n",
    "healthy8 = pd.read_csv(\"data/TAIWAN_RAW_DATA/HEALTHY/A2_886012_20170309_193106/A2RealTime_886012_20170309_193106.csv\")\n",
    "healthy9 = pd.read_csv(\"data/TAIWAN_RAW_DATA/HEALTHY/A2_886013_20170309_200214/A2RealTime_886013_20170309_200214.csv\")\n",
    "healthy10 = pd.read_csv(\"data/TAIWAN_RAW_DATA/HEALTHY/A2_886014_20170309_205449/A2RealTime_886014_20170309_205449.csv\")\n",
    "#adhd.set_index(\"Time\", inplace = True);\n",
    "#display(adhd.head())\n",
    "ADHD = [adhd1, adhd2, adhd3, adhd4, adhd5, adhd6, adhd7,adhd8, adhd9, adhd10]\n",
    "HEALTHY = [healthy1, healthy2, healthy3, healthy4, healthy5, healthy6, healthy7, healthy8, healthy9, healthy10]\n"
   ]
  },
  {
   "cell_type": "code",
   "execution_count": null,
   "metadata": {
    "collapsed": true
   },
   "outputs": [],
   "source": []
  },
  {
   "cell_type": "code",
   "execution_count": 6,
   "metadata": {
    "collapsed": false
   },
   "outputs": [
    {
     "data": {
      "image/png": "[encoded data removed]",
      "text/plain": [
       "<matplotlib.figure.Figure at 0x9164860>"
      ]
     },
     "metadata": {},
     "output_type": "display_data"
    }
   ],
   "source": [
    "import numpy as np\n",
    "import matplotlib.pyplot as plt\n",
    "from scipy import fft, arange\n",
    "def PowerSpectrumCumulative(y,Fs):\n",
    "    n = len(y) # length of the signal\n",
    "    k = arange(n)\n",
    "    T = n/Fs\n",
    "    frq = k/T # two sides frequency range\n",
    "    frq = frq[range(round(n/2))] # one side frequency range\n",
    "\n",
    "    Y = fft(y)/n # fft computing and normalization\n",
    "    Y = Y[range(round(n/2))]\n",
    "    Z = []\n",
    "    for i in range(len(Y)):\n",
    "        Z.append(np.absolute(Y[i])**2)\n",
    "    \n",
    "    for i in range(len(Z)):\n",
    "        if i == 0:\n",
    "            pass\n",
    "        else:\n",
    "            Z[i] = Z[i] + Z[i-1]\n",
    "    \n",
    "    plt.ylim(0.0, 1.0)\n",
    "    plt.plot(frq, Z/Z[len(Z)-1],'r') # plotting the spectrum\n",
    "    plt.xlabel('Freq (Hz)')\n",
    "    plt.ylabel('|Y(freq)|')\n",
    "\n",
    "\n",
    "Fs = 50.0;  # sampling rate\n",
    "Ts = 1.0/Fs; # sampling interval\n",
    "\n",
    "\n",
    "PowerSpectrumCumulative(healthy3['PosX'],Fs)\n",
    "plt.show()"
   ]
  },
  {
   "cell_type": "code",
   "execution_count": 29,
   "metadata": {
    "collapsed": false
   },
   "outputs": [],
   "source": [
    "def ninety_nine_percent(y,Fs):\n",
    "    n = len(y) # length of the signal\n",
    "    k = arange(n)\n",
    "    T = n/Fs\n",
    "    frq = k/T # two sides frequency range\n",
    "    frq = frq[range(round(n/2))] # one side frequency range\n",
    "\n",
    "    Y = fft(y)\n",
    "    Y = Y[range(round(n/2))]\n",
    "    Z = []\n",
    "    for i in range(len(Y)):\n",
    "        Z.append(np.absolute(Y[i])**2)\n",
    "    \n",
    "    for i in range(len(Z)):\n",
    "        if i == 0:\n",
    "            pass\n",
    "        else:\n",
    "            Z[i] = Z[i] + Z[i-1]\n",
    "    \n",
    "    Z = Z/Z[len(Z)-1]\n",
    "    for i in range(len(Z)):\n",
    "        if Z[i] >= 0.99:\n",
    "            return frq[i]\n",
    "        \n",
    "Fs = 50.0;  # sampling rate\n",
    "Ts = 1.0/Fs; # sampling interval"
   ]
  },
  {
   "cell_type": "code",
   "execution_count": null,
   "metadata": {
    "collapsed": true
   },
   "outputs": [],
   "source": []
  },
  {
   "cell_type": "code",
   "execution_count": 30,
   "metadata": {
    "collapsed": false
   },
   "outputs": [],
   "source": [
    "def print99(ADHDorHEALTHY):\n",
    "    for item in ADHDorHEALTHY:\n",
    "        print(ninety_nine_percent(item['RotX'],Fs), \"  \")\n",
    "        print(ninety_nine_percent(item['RotY'],Fs),  \"  \")\n",
    "        print(ninety_nine_percent(item['RotZ'],Fs),  \"  \")\n",
    "        print(ninety_nine_percent(item['PosX'],Fs),  \"  \")\n",
    "        print(ninety_nine_percent(item['PosY'],Fs),  \"  \")\n",
    "        print(ninety_nine_percent(item['PosZ'],Fs), \"\\n\")\n",
    "    \n"
   ]
  },
  {
   "cell_type": "code",
   "execution_count": 31,
   "metadata": {
    "collapsed": false
   },
   "outputs": [
    {
     "name": "stdout",
     "output_type": "stream",
     "text": [
      "ADHD KIDS\n",
      "0.280769230769   \n",
      "4.10641025641   \n",
      "0.214102564103   \n",
      "0.194871794872   \n",
      "0.0   \n",
      "0.0 \n",
      "\n",
      "0.280769230769   \n",
      "4.07051282051   \n",
      "0.214102564103   \n",
      "0.194871794872   \n",
      "0.0   \n",
      "0.0 \n",
      "\n",
      "0.280769230769   \n",
      "4.07051282051   \n",
      "0.214102564103   \n",
      "0.194871794872   \n",
      "0.0   \n",
      "0.0 \n",
      "\n",
      "0.280769230769   \n",
      "4.07051282051   \n",
      "0.214102564103   \n",
      "0.194871794872   \n",
      "0.0   \n",
      "0.0 \n",
      "\n",
      "HEALTHY KIDS\n",
      "0.539743589744   \n",
      "3.35   \n",
      "3.30256410256   \n",
      "0.707692307692   \n",
      "0.0   \n",
      "0.0 \n",
      "\n",
      "0.296153846154   \n",
      "3.24615384615   \n",
      "0.266666666667   \n",
      "0.00512820512821   \n",
      "0.0   \n",
      "0.0 \n",
      "\n",
      "4.77307692308   \n",
      "3.26282051282   \n",
      "0.0102564102564   \n",
      "0.676923076923   \n",
      "0.0   \n",
      "0.0 \n",
      "\n",
      "0.0397435897436   \n",
      "0.430769230769   \n",
      "4.64102564103   \n",
      "0.0807692307692   \n",
      "0.0   \n",
      "0.0 \n",
      "\n",
      "0.925641025641   \n",
      "0.676923076923   \n",
      "1.51794871795   \n",
      "0.0   \n",
      "0.0   \n",
      "0.0 \n",
      "\n",
      "0.384615384615   \n",
      "1.08333333333   \n",
      "1.61538461538   \n",
      "0.0115384615385   \n",
      "0.0   \n",
      "0.0 \n",
      "\n",
      "0.0   \n",
      "0.00512820512821   \n",
      "0.0   \n",
      "0.00128205128205   \n",
      "0.0   \n",
      "0.0 \n",
      "\n",
      "0.0   \n",
      "1.47564102564   \n",
      "0.0   \n",
      "0.0025641025641   \n",
      "0.0   \n",
      "0.0 \n",
      "\n",
      "0.0025641025641   \n",
      "12.5961538462   \n",
      "0.170512820513   \n",
      "0.648717948718   \n",
      "0.0   \n",
      "0.0 \n",
      "\n",
      "0.0102564102564   \n",
      "6.60384615385   \n",
      "0.0   \n",
      "0.0025641025641   \n",
      "0.0   \n",
      "0.0 \n",
      "\n"
     ]
    }
   ],
   "source": [
    "print (\"ADHD KIDS\")\n",
    "print99(ADHD)\n",
    "print (\"HEALTHY KIDS\")\n",
    "print99(HEALTHY)"
   ]
  },
  {
   "cell_type": "code",
   "execution_count": 17,
   "metadata": {
    "collapsed": false
   },
   "outputs": [
    {
     "name": "stdout",
     "output_type": "stream",
     "text": [
      "[  1.79342740e+09   1.79391478e+09   1.79403928e+09 ...,   1.79576266e+09\n",
      "   1.79588716e+09   1.79637454e+09]\n"
     ]
    }
   ],
   "source": [
    "Z = np.absolute(fft(adhd1['PosY'])/) ** 2\n",
    "for i in range(len(Z)):\n",
    "        if i == 0:\n",
    "            pass\n",
    "        else:\n",
    "            Z[i] = Z[i] + Z[i-1]\n",
    "print (Z)"
   ]
  },
  {
   "cell_type": "code",
   "execution_count": 2,
   "metadata": {
    "collapsed": false
   },
   "outputs": [],
   "source": [
    "from scipy.signal import butter, lfilter\n",
    "\n",
    "\n",
    "def butter_lowpass(lowcut, fs, order):\n",
    "    nyq = 0.5 * fs\n",
    "    low = lowcut / nyq\n",
    "    b, a = butter(order, [low], btype='lowpass')\n",
    "    return b, a\n",
    "\n",
    "\n",
    "def butter_lowpass_filter(data, lowcut, fs, order):\n",
    "    b, a = butter_lowpass(lowcut, fs, order=order)\n",
    "    y = lfilter(b, a, data)\n",
    "    return y\n",
    "\n"
   ]
  },
  {
   "cell_type": "code",
   "execution_count": 3,
   "metadata": {
    "collapsed": false
   },
   "outputs": [],
   "source": [
    "lowcut = 20.0\n",
    "fs = 50.0\n",
    "def filter(ADHDorHEALTHY):\n",
    "    for item in ADHDorHEALTHY: \n",
    "        item['RotX'] = butter_lowpass_filter(item['RotX'], lowcut, fs, order=4)\n",
    "        item['RotY'] = butter_lowpass_filter(item['RotY'], lowcut, fs, order=4)\n",
    "        item['RotZ'] = butter_lowpass_filter(item['RotZ'], lowcut, fs, order=4)\n",
    "        item['PosX'] = butter_lowpass_filter(item['PosX'], lowcut, fs, order=4)\n",
    "        item['PosY'] = butter_lowpass_filter(item['PosY'], lowcut, fs, order=4)\n",
    "        item['PosZ'] = butter_lowpass_filter(item['PosZ'], lowcut, fs, order=4)\n",
    "        \n",
    "filter(ADHD)\n",
    "filter(HEALTHY)\n",
    "\n",
    "# adhd1.to_csv(\"data/TAIWAN_RAW_DATA/ADHD/A2_886001_20170227_184017/filtered_A2RealTime_886001_20170227_184017.csv\")\n",
    "# adhd2.to_csv(\"data/TAIWAN_RAW_DATA/ADHD/A2_886002_20170228_104813/filtered_A2RealTime_886002_20170228_104813.csv\")#has not hands and feet data\n",
    "# adhd3.to_csv(\"data/TAIWAN_RAW_DATA/ADHD/A2_886006_20170304_172008/filtered_A2RealTime_886006_20170304_172008.csv\")\n",
    "# adhd4.to_csv(\"data/TAIWAN_RAW_DATA/ADHD/A2_886010_20170305_132607/filtered_A2RealTime_886010_20170305_132607.csv\")\n",
    "# adhd5.to_csv(\"data/TAIWAN_RAW_DATA/ADHD/A2_886015_20170311_153739/filtered_A2RealTime_886015_20170311_153739.csv\")\n",
    "# adhd6.to_csv(\"data/TAIWAN_RAW_DATA/ADHD/A2_886016_20170311_184832/filtered_A2RealTime_886016_20170311_184832.csv\")\n",
    "# adhd7.to_csv(\"data/TAIWAN_RAW_DATA/ADHD/A2_886017_20170312_112519/filtered_A2RealTime_886017_20170312_112519.csv\")\n",
    "adhd8.to_csv(\"data/TAIWAN_RAW_DATA/ADHD/A2_886018_20170317_192755/filtered_A2RealTime_886018_20170317_192755.csv\")\n",
    "adhd9.to_csv(\"data/TAIWAN_RAW_DATA/ADHD/A2_886019_20170318_130057/filtered_A2RealTime_886019_20170318_130057.csv\")\n",
    "adhd10.to_csv(\"data/TAIWAN_RAW_DATA/ADHD/A2_886020_20170318_135002/filtered_A2RealTime_886020_20170318_135002.csv\")\n",
    "# healthy1.to_csv(\"data/TAIWAN_RAW_DATA/HEALTHY/A2_886003_20170228_130925/filtered_A2RealTime_886003_20170228_130925.csv\")\n",
    "# healthy2.to_csv(\"data/TAIWAN_RAW_DATA/HEALTHY/A2_886004_20170304_152912/filtered_A2RealTime_886004_20170304_152912.csv\")\n",
    "# healthy3.to_csv(\"data/TAIWAN_RAW_DATA/HEALTHY/A2_886005_20170304_160532/filtered_A2RealTime_886005_20170304_160532.csv\")\n",
    "# healthy4.to_csv(\"data/TAIWAN_RAW_DATA/HEALTHY/A2_886007_20170305_102310/filtered_A2RealTime_886007_20170305_102310.csv\")\n",
    "# healthy5.to_csv(\"data/TAIWAN_RAW_DATA/HEALTHY/A2_886008_20170305_105348/filtered_A2RealTime_886008_20170305_105348.csv\")\n",
    "# healthy6.to_csv(\"data/TAIWAN_RAW_DATA/HEALTHY/A2_886009_20170305_112726/filtered_A2RealTime_886009_20170305_112726.csv\")\n",
    "# healthy7.to_csv(\"data/TAIWAN_RAW_DATA/HEALTHY/A2_886011_20170309_190528/filtered_A2RealTime_886011_20170309_190528.csv\")\n",
    "# healthy8.to_csv(\"data/TAIWAN_RAW_DATA/HEALTHY/A2_886012_20170309_193106/filtered_A2RealTime_886012_20170309_193106.csv\")\n",
    "# healthy9.to_csv(\"data/TAIWAN_RAW_DATA/HEALTHY/A2_886013_20170309_200214/filtered_A2RealTime_886013_20170309_200214.csv\")\n",
    "# healthy10.to_csv(\"data/TAIWAN_RAW_DATA/HEALTHY/A2_886014_20170309_205449/filtered_A2RealTime_886014_20170309_205449.csv\")\n"
   ]
  },
  {
   "cell_type": "code",
   "execution_count": 35,
   "metadata": {
    "collapsed": false
   },
   "outputs": [
    {
     "name": "stdout",
     "output_type": "stream",
     "text": [
      "0.280769230769   \n"
     ]
    }
   ],
   "source": [
    " print(ninety_nine_percent(item['RotX'],Fs), \"  \")"
   ]
  },
  {
   "cell_type": "code",
   "execution_count": 38,
   "metadata": {
    "collapsed": false
   },
   "outputs": [
    {
     "name": "stdout",
     "output_type": "stream",
     "text": [
      "0.280769230769   \n"
     ]
    }
   ],
   "source": [
    " print(ninety_nine_percent(item['RotX'],Fs), \"  \")"
   ]
  },
  {
   "cell_type": "code",
   "execution_count": null,
   "metadata": {
    "collapsed": true
   },
   "outputs": [],
   "source": []
  }
 ],
 "metadata": {
  "anaconda-cloud": {},
  "kernelspec": {
   "display_name": "Python [conda root]",
   "language": "python",
   "name": "conda-root-py"
  },
  "language_info": {
   "codemirror_mode": {
    "name": "ipython",
    "version": 3
   },
   "file_extension": ".py",
   "mimetype": "text/x-python",
   "name": "python",
   "nbconvert_exporter": "python",
   "pygments_lexer": "ipython3",
   "version": "3.5.2"
  }
 },
 "nbformat": 4,
 "nbformat_minor": 1
}
